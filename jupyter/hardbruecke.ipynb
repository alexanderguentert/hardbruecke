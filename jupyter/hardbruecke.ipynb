{
 "cells": [
  {
   "cell_type": "markdown",
   "metadata": {
    "id": "U6JpV00HQkgy"
   },
   "source": [
    "# Hardbrücke "
   ]
  },
  {
   "cell_type": "markdown",
   "metadata": {
    "id": "r3Nt9Lqv_nwK"
   },
   "source": [
    "## Quelle"
   ]
  },
  {
   "cell_type": "markdown",
   "metadata": {
    "id": "qUUfGRpl_kib"
   },
   "source": [
    "https://data.stadt-zuerich.ch/dataset/vbz_frequenzen_hardbruecke"
   ]
  },
  {
   "cell_type": "code",
   "execution_count": null,
   "metadata": {
    "id": "9mxHoqzuQkhC"
   },
   "outputs": [],
   "source": [
    "import pandas as pd\n",
    "import numpy as np\n",
    "import seaborn as sns\n",
    "import matplotlib.pyplot as plt\n",
    "import plotly.express as px"
   ]
  },
  {
   "cell_type": "markdown",
   "metadata": {
    "id": "TP2YCMgmhiEn"
   },
   "source": [
    "## Get Data"
   ]
  },
  {
   "cell_type": "code",
   "execution_count": null,
   "metadata": {
    "colab": {
     "base_uri": "https://localhost:8080/"
    },
    "executionInfo": {
     "elapsed": 28305,
     "status": "ok",
     "timestamp": 1611602188005,
     "user": {
      "displayName": "Alexander Güntert",
      "photoUrl": "https://lh3.googleusercontent.com/a-/AOh14GjIDZOV3Kdu3TWlEjJZTL18T1k0eIq5QemDHh7vsA=s64",
      "userId": "02684316521139958264"
     },
     "user_tz": -60
    },
    "id": "WQyNxp4aSZ-M",
    "outputId": "0517deca-76e6-4a75-bb97-18d8946d34d2"
   },
   "outputs": [
    {
     "name": "stdout",
     "output_type": "stream",
     "text": [
      "Mounted at /content/gdrive\n"
     ]
    }
   ],
   "source": [
    "from google.colab import drive\n",
    "drive.mount('/content/gdrive')"
   ]
  },
  {
   "cell_type": "code",
   "execution_count": null,
   "metadata": {
    "id": "AOZfsjF-K9sX"
   },
   "outputs": [],
   "source": [
    "import os"
   ]
  },
  {
   "cell_type": "code",
   "execution_count": null,
   "metadata": {
    "colab": {
     "base_uri": "https://localhost:8080/"
    },
    "executionInfo": {
     "elapsed": 28782,
     "status": "ok",
     "timestamp": 1611602188514,
     "user": {
      "displayName": "Alexander Güntert",
      "photoUrl": "https://lh3.googleusercontent.com/a-/AOh14GjIDZOV3Kdu3TWlEjJZTL18T1k0eIq5QemDHh7vsA=s64",
      "userId": "02684316521139958264"
     },
     "user_tz": -60
    },
    "id": "vjNptkO2K_WI",
    "outputId": "241f50cb-0399-4258-8df4-6393db1d5979"
   },
   "outputs": [
    {
     "data": {
      "text/plain": [
       "['frequenzen_hardbruecke_2020.zip', 'hardbruecke.ipynb']"
      ]
     },
     "execution_count": 4,
     "metadata": {
      "tags": []
     },
     "output_type": "execute_result"
    }
   ],
   "source": [
    "os.listdir('/content/gdrive/MyDrive/ColabNotebooks/hardbruecke')"
   ]
  },
  {
   "cell_type": "code",
   "execution_count": null,
   "metadata": {
    "id": "ByC7cp0gSkto"
   },
   "outputs": [],
   "source": [
    "filepath = '/content/gdrive/MyDrive/ColabNotebooks/hardbruecke/frequenzen_hardbruecke_2020.zip'"
   ]
  },
  {
   "cell_type": "code",
   "execution_count": null,
   "metadata": {
    "id": "unR2tEp9QkhG"
   },
   "outputs": [],
   "source": [
    "hb = pd.read_csv(filepath,compression='zip')"
   ]
  },
  {
   "cell_type": "code",
   "execution_count": null,
   "metadata": {
    "id": "WQixqC2UQkhK"
   },
   "outputs": [],
   "source": [
    "hb['Timestamp'] = pd.to_datetime(hb['Timestamp'])"
   ]
  },
  {
   "cell_type": "code",
   "execution_count": null,
   "metadata": {
    "colab": {
     "base_uri": "https://localhost:8080/",
     "height": 206
    },
    "executionInfo": {
     "elapsed": 30303,
     "status": "ok",
     "timestamp": 1611602190082,
     "user": {
      "displayName": "Alexander Güntert",
      "photoUrl": "https://lh3.googleusercontent.com/a-/AOh14GjIDZOV3Kdu3TWlEjJZTL18T1k0eIq5QemDHh7vsA=s64",
      "userId": "02684316521139958264"
     },
     "user_tz": -60
    },
    "id": "bQaDUaovQkhM",
    "outputId": "05e7feb2-9fcd-4b76-d0dc-15dfaf0d13cc"
   },
   "outputs": [
    {
     "data": {
      "text/html": [
       "<div>\n",
       "<style scoped>\n",
       "    .dataframe tbody tr th:only-of-type {\n",
       "        vertical-align: middle;\n",
       "    }\n",
       "\n",
       "    .dataframe tbody tr th {\n",
       "        vertical-align: top;\n",
       "    }\n",
       "\n",
       "    .dataframe thead th {\n",
       "        text-align: right;\n",
       "    }\n",
       "</style>\n",
       "<table border=\"1\" class=\"dataframe\">\n",
       "  <thead>\n",
       "    <tr style=\"text-align: right;\">\n",
       "      <th></th>\n",
       "      <th>In</th>\n",
       "      <th>Out</th>\n",
       "      <th>Timestamp</th>\n",
       "      <th>Name</th>\n",
       "    </tr>\n",
       "  </thead>\n",
       "  <tbody>\n",
       "    <tr>\n",
       "      <th>0</th>\n",
       "      <td>1</td>\n",
       "      <td>0</td>\n",
       "      <td>2020-01-01 23:55:00</td>\n",
       "      <td>Ost-Nord total</td>\n",
       "    </tr>\n",
       "    <tr>\n",
       "      <th>1</th>\n",
       "      <td>2</td>\n",
       "      <td>5</td>\n",
       "      <td>2020-01-01 23:50:00</td>\n",
       "      <td>Ost-Nord total</td>\n",
       "    </tr>\n",
       "    <tr>\n",
       "      <th>2</th>\n",
       "      <td>1</td>\n",
       "      <td>0</td>\n",
       "      <td>2020-01-01 23:45:00</td>\n",
       "      <td>Ost-Nord total</td>\n",
       "    </tr>\n",
       "    <tr>\n",
       "      <th>3</th>\n",
       "      <td>1</td>\n",
       "      <td>4</td>\n",
       "      <td>2020-01-01 23:40:00</td>\n",
       "      <td>Ost-Nord total</td>\n",
       "    </tr>\n",
       "    <tr>\n",
       "      <th>4</th>\n",
       "      <td>1</td>\n",
       "      <td>0</td>\n",
       "      <td>2020-01-01 23:35:00</td>\n",
       "      <td>Ost-Nord total</td>\n",
       "    </tr>\n",
       "  </tbody>\n",
       "</table>\n",
       "</div>"
      ],
      "text/plain": [
       "   In  Out           Timestamp            Name\n",
       "0   1    0 2020-01-01 23:55:00  Ost-Nord total\n",
       "1   2    5 2020-01-01 23:50:00  Ost-Nord total\n",
       "2   1    0 2020-01-01 23:45:00  Ost-Nord total\n",
       "3   1    4 2020-01-01 23:40:00  Ost-Nord total\n",
       "4   1    0 2020-01-01 23:35:00  Ost-Nord total"
      ]
     },
     "execution_count": 8,
     "metadata": {
      "tags": []
     },
     "output_type": "execute_result"
    }
   ],
   "source": [
    "hb.head()"
   ]
  },
  {
   "cell_type": "code",
   "execution_count": null,
   "metadata": {
    "colab": {
     "base_uri": "https://localhost:8080/"
    },
    "executionInfo": {
     "elapsed": 30286,
     "status": "ok",
     "timestamp": 1611602190086,
     "user": {
      "displayName": "Alexander Güntert",
      "photoUrl": "https://lh3.googleusercontent.com/a-/AOh14GjIDZOV3Kdu3TWlEjJZTL18T1k0eIq5QemDHh7vsA=s64",
      "userId": "02684316521139958264"
     },
     "user_tz": -60
    },
    "id": "JoCn8TGNQkhQ",
    "outputId": "7465550d-2b72-4881-b463-209888d7d41b"
   },
   "outputs": [
    {
     "name": "stdout",
     "output_type": "stream",
     "text": [
      "<class 'pandas.core.frame.DataFrame'>\n",
      "RangeIndex: 714681 entries, 0 to 714680\n",
      "Data columns (total 4 columns):\n",
      " #   Column     Non-Null Count   Dtype         \n",
      "---  ------     --------------   -----         \n",
      " 0   In         714681 non-null  int64         \n",
      " 1   Out        714681 non-null  int64         \n",
      " 2   Timestamp  714681 non-null  datetime64[ns]\n",
      " 3   Name       714681 non-null  object        \n",
      "dtypes: datetime64[ns](1), int64(2), object(1)\n",
      "memory usage: 21.8+ MB\n"
     ]
    }
   ],
   "source": [
    "hb.info()"
   ]
  },
  {
   "cell_type": "code",
   "execution_count": null,
   "metadata": {
    "colab": {
     "base_uri": "https://localhost:8080/",
     "height": 300
    },
    "executionInfo": {
     "elapsed": 30658,
     "status": "ok",
     "timestamp": 1611602190480,
     "user": {
      "displayName": "Alexander Güntert",
      "photoUrl": "https://lh3.googleusercontent.com/a-/AOh14GjIDZOV3Kdu3TWlEjJZTL18T1k0eIq5QemDHh7vsA=s64",
      "userId": "02684316521139958264"
     },
     "user_tz": -60
    },
    "id": "r5U2_7prQkhR",
    "outputId": "9eae2c97-f1fa-4b06-bf00-45dc6a4ea3a6"
   },
   "outputs": [
    {
     "data": {
      "text/html": [
       "<div>\n",
       "<style scoped>\n",
       "    .dataframe tbody tr th:only-of-type {\n",
       "        vertical-align: middle;\n",
       "    }\n",
       "\n",
       "    .dataframe tbody tr th {\n",
       "        vertical-align: top;\n",
       "    }\n",
       "\n",
       "    .dataframe thead th {\n",
       "        text-align: right;\n",
       "    }\n",
       "</style>\n",
       "<table border=\"1\" class=\"dataframe\">\n",
       "  <thead>\n",
       "    <tr style=\"text-align: right;\">\n",
       "      <th></th>\n",
       "      <th>In</th>\n",
       "      <th>Out</th>\n",
       "    </tr>\n",
       "  </thead>\n",
       "  <tbody>\n",
       "    <tr>\n",
       "      <th>count</th>\n",
       "      <td>714681.000000</td>\n",
       "      <td>714681.000000</td>\n",
       "    </tr>\n",
       "    <tr>\n",
       "      <th>mean</th>\n",
       "      <td>12.405247</td>\n",
       "      <td>10.299464</td>\n",
       "    </tr>\n",
       "    <tr>\n",
       "      <th>std</th>\n",
       "      <td>16.061613</td>\n",
       "      <td>12.936968</td>\n",
       "    </tr>\n",
       "    <tr>\n",
       "      <th>min</th>\n",
       "      <td>0.000000</td>\n",
       "      <td>0.000000</td>\n",
       "    </tr>\n",
       "    <tr>\n",
       "      <th>25%</th>\n",
       "      <td>3.000000</td>\n",
       "      <td>2.000000</td>\n",
       "    </tr>\n",
       "    <tr>\n",
       "      <th>50%</th>\n",
       "      <td>7.000000</td>\n",
       "      <td>6.000000</td>\n",
       "    </tr>\n",
       "    <tr>\n",
       "      <th>75%</th>\n",
       "      <td>16.000000</td>\n",
       "      <td>13.000000</td>\n",
       "    </tr>\n",
       "    <tr>\n",
       "      <th>max</th>\n",
       "      <td>253.000000</td>\n",
       "      <td>276.000000</td>\n",
       "    </tr>\n",
       "  </tbody>\n",
       "</table>\n",
       "</div>"
      ],
      "text/plain": [
       "                  In            Out\n",
       "count  714681.000000  714681.000000\n",
       "mean       12.405247      10.299464\n",
       "std        16.061613      12.936968\n",
       "min         0.000000       0.000000\n",
       "25%         3.000000       2.000000\n",
       "50%         7.000000       6.000000\n",
       "75%        16.000000      13.000000\n",
       "max       253.000000     276.000000"
      ]
     },
     "execution_count": 10,
     "metadata": {
      "tags": []
     },
     "output_type": "execute_result"
    }
   ],
   "source": [
    "hb.describe()"
   ]
  },
  {
   "cell_type": "code",
   "execution_count": null,
   "metadata": {
    "colab": {
     "base_uri": "https://localhost:8080/",
     "height": 282
    },
    "executionInfo": {
     "elapsed": 31473,
     "status": "ok",
     "timestamp": 1611602191317,
     "user": {
      "displayName": "Alexander Güntert",
      "photoUrl": "https://lh3.googleusercontent.com/a-/AOh14GjIDZOV3Kdu3TWlEjJZTL18T1k0eIq5QemDHh7vsA=s64",
      "userId": "02684316521139958264"
     },
     "user_tz": -60
    },
    "id": "oGo6ZqshmeL8",
    "outputId": "1b2d6fc0-5ea6-4454-8a5d-57bdfacbe172"
   },
   "outputs": [
    {
     "data": {
      "text/plain": [
       "<matplotlib.axes._subplots.AxesSubplot at 0x7faec2e55978>"
      ]
     },
     "execution_count": 11,
     "metadata": {
      "tags": []
     },
     "output_type": "execute_result"
    },
    {
     "data": {
      "image/png": "[encoded data removed]",
      "text/plain": [
       "<Figure size 432x288 with 1 Axes>"
      ]
     },
     "metadata": {
      "needs_background": "light",
      "tags": []
     },
     "output_type": "display_data"
    }
   ],
   "source": [
    "sns.boxplot(data=hb[['In','Out']])"
   ]
  },
  {
   "cell_type": "code",
   "execution_count": null,
   "metadata": {
    "id": "49gXPUeWkN7O"
   },
   "outputs": [],
   "source": [
    "hb2 = hb.set_index(['Timestamp','Name']).stack().reset_index()"
   ]
  },
  {
   "cell_type": "code",
   "execution_count": null,
   "metadata": {
    "colab": {
     "base_uri": "https://localhost:8080/",
     "height": 206
    },
    "executionInfo": {
     "elapsed": 31460,
     "status": "ok",
     "timestamp": 1611602191327,
     "user": {
      "displayName": "Alexander Güntert",
      "photoUrl": "https://lh3.googleusercontent.com/a-/AOh14GjIDZOV3Kdu3TWlEjJZTL18T1k0eIq5QemDHh7vsA=s64",
      "userId": "02684316521139958264"
     },
     "user_tz": -60
    },
    "id": "3l1CqDWukeNq",
    "outputId": "75838c0a-9663-4afd-deb6-a98bf9ac2e4e"
   },
   "outputs": [
    {
     "data": {
      "text/html": [
       "<div>\n",
       "<style scoped>\n",
       "    .dataframe tbody tr th:only-of-type {\n",
       "        vertical-align: middle;\n",
       "    }\n",
       "\n",
       "    .dataframe tbody tr th {\n",
       "        vertical-align: top;\n",
       "    }\n",
       "\n",
       "    .dataframe thead th {\n",
       "        text-align: right;\n",
       "    }\n",
       "</style>\n",
       "<table border=\"1\" class=\"dataframe\">\n",
       "  <thead>\n",
       "    <tr style=\"text-align: right;\">\n",
       "      <th></th>\n",
       "      <th>Timestamp</th>\n",
       "      <th>Name</th>\n",
       "      <th>level_2</th>\n",
       "      <th>0</th>\n",
       "    </tr>\n",
       "  </thead>\n",
       "  <tbody>\n",
       "    <tr>\n",
       "      <th>0</th>\n",
       "      <td>2020-01-01 23:55:00</td>\n",
       "      <td>Ost-Nord total</td>\n",
       "      <td>In</td>\n",
       "      <td>1</td>\n",
       "    </tr>\n",
       "    <tr>\n",
       "      <th>1</th>\n",
       "      <td>2020-01-01 23:55:00</td>\n",
       "      <td>Ost-Nord total</td>\n",
       "      <td>Out</td>\n",
       "      <td>0</td>\n",
       "    </tr>\n",
       "    <tr>\n",
       "      <th>2</th>\n",
       "      <td>2020-01-01 23:50:00</td>\n",
       "      <td>Ost-Nord total</td>\n",
       "      <td>In</td>\n",
       "      <td>2</td>\n",
       "    </tr>\n",
       "    <tr>\n",
       "      <th>3</th>\n",
       "      <td>2020-01-01 23:50:00</td>\n",
       "      <td>Ost-Nord total</td>\n",
       "      <td>Out</td>\n",
       "      <td>5</td>\n",
       "    </tr>\n",
       "    <tr>\n",
       "      <th>4</th>\n",
       "      <td>2020-01-01 23:45:00</td>\n",
       "      <td>Ost-Nord total</td>\n",
       "      <td>In</td>\n",
       "      <td>1</td>\n",
       "    </tr>\n",
       "  </tbody>\n",
       "</table>\n",
       "</div>"
      ],
      "text/plain": [
       "            Timestamp            Name level_2  0\n",
       "0 2020-01-01 23:55:00  Ost-Nord total      In  1\n",
       "1 2020-01-01 23:55:00  Ost-Nord total     Out  0\n",
       "2 2020-01-01 23:50:00  Ost-Nord total      In  2\n",
       "3 2020-01-01 23:50:00  Ost-Nord total     Out  5\n",
       "4 2020-01-01 23:45:00  Ost-Nord total      In  1"
      ]
     },
     "execution_count": 13,
     "metadata": {
      "tags": []
     },
     "output_type": "execute_result"
    }
   ],
   "source": [
    "hb2.head()"
   ]
  },
  {
   "cell_type": "markdown",
   "metadata": {
    "id": "hFZfFS1JhuRj"
   },
   "source": [
    "## Data preparation"
   ]
  },
  {
   "cell_type": "code",
   "execution_count": null,
   "metadata": {
    "id": "d71dl8vQkhAB"
   },
   "outputs": [],
   "source": [
    "hb2 = hb2.rename(columns={'level_2':'direction',0:'count'})"
   ]
  },
  {
   "cell_type": "code",
   "execution_count": null,
   "metadata": {
    "colab": {
     "base_uri": "https://localhost:8080/",
     "height": 206
    },
    "executionInfo": {
     "elapsed": 31438,
     "status": "ok",
     "timestamp": 1611602191333,
     "user": {
      "displayName": "Alexander Güntert",
      "photoUrl": "https://lh3.googleusercontent.com/a-/AOh14GjIDZOV3Kdu3TWlEjJZTL18T1k0eIq5QemDHh7vsA=s64",
      "userId": "02684316521139958264"
     },
     "user_tz": -60
    },
    "id": "ntnqfvBLk4c0",
    "outputId": "a3d1f4d9-436b-4f02-c5be-b32666bf697e"
   },
   "outputs": [
    {
     "data": {
      "text/html": [
       "<div>\n",
       "<style scoped>\n",
       "    .dataframe tbody tr th:only-of-type {\n",
       "        vertical-align: middle;\n",
       "    }\n",
       "\n",
       "    .dataframe tbody tr th {\n",
       "        vertical-align: top;\n",
       "    }\n",
       "\n",
       "    .dataframe thead th {\n",
       "        text-align: right;\n",
       "    }\n",
       "</style>\n",
       "<table border=\"1\" class=\"dataframe\">\n",
       "  <thead>\n",
       "    <tr style=\"text-align: right;\">\n",
       "      <th></th>\n",
       "      <th>Timestamp</th>\n",
       "      <th>Name</th>\n",
       "      <th>direction</th>\n",
       "      <th>count</th>\n",
       "    </tr>\n",
       "  </thead>\n",
       "  <tbody>\n",
       "    <tr>\n",
       "      <th>0</th>\n",
       "      <td>2020-01-01 23:55:00</td>\n",
       "      <td>Ost-Nord total</td>\n",
       "      <td>In</td>\n",
       "      <td>1</td>\n",
       "    </tr>\n",
       "    <tr>\n",
       "      <th>1</th>\n",
       "      <td>2020-01-01 23:55:00</td>\n",
       "      <td>Ost-Nord total</td>\n",
       "      <td>Out</td>\n",
       "      <td>0</td>\n",
       "    </tr>\n",
       "    <tr>\n",
       "      <th>2</th>\n",
       "      <td>2020-01-01 23:50:00</td>\n",
       "      <td>Ost-Nord total</td>\n",
       "      <td>In</td>\n",
       "      <td>2</td>\n",
       "    </tr>\n",
       "    <tr>\n",
       "      <th>3</th>\n",
       "      <td>2020-01-01 23:50:00</td>\n",
       "      <td>Ost-Nord total</td>\n",
       "      <td>Out</td>\n",
       "      <td>5</td>\n",
       "    </tr>\n",
       "    <tr>\n",
       "      <th>4</th>\n",
       "      <td>2020-01-01 23:45:00</td>\n",
       "      <td>Ost-Nord total</td>\n",
       "      <td>In</td>\n",
       "      <td>1</td>\n",
       "    </tr>\n",
       "  </tbody>\n",
       "</table>\n",
       "</div>"
      ],
      "text/plain": [
       "            Timestamp            Name direction  count\n",
       "0 2020-01-01 23:55:00  Ost-Nord total        In      1\n",
       "1 2020-01-01 23:55:00  Ost-Nord total       Out      0\n",
       "2 2020-01-01 23:50:00  Ost-Nord total        In      2\n",
       "3 2020-01-01 23:50:00  Ost-Nord total       Out      5\n",
       "4 2020-01-01 23:45:00  Ost-Nord total        In      1"
      ]
     },
     "execution_count": 15,
     "metadata": {
      "tags": []
     },
     "output_type": "execute_result"
    }
   ],
   "source": [
    "hb2.head()"
   ]
  },
  {
   "cell_type": "code",
   "execution_count": null,
   "metadata": {
    "id": "YNfz8iCoraXr"
   },
   "outputs": [],
   "source": [
    "hb2['hour'] = hb2['Timestamp'].dt.hour\n",
    "hb2['weekday'] = hb2['Timestamp'].dt.weekday\n",
    "hb2['minute'] = hb2['Timestamp'].dt.minute\n",
    "hb2['month'] = hb2['Timestamp'].dt.month"
   ]
  },
  {
   "cell_type": "code",
   "execution_count": null,
   "metadata": {
    "id": "LtV7wzw6ufiU"
   },
   "outputs": [],
   "source": [
    "hb2['direction_cat'] = hb2['direction'].replace({'In':0,'Out':1})"
   ]
  },
  {
   "cell_type": "code",
   "execution_count": null,
   "metadata": {
    "id": "NhddfZLJvANB"
   },
   "outputs": [],
   "source": [
    "names = {\n",
    "    'Ost-Süd total' : 0,\n",
    "    'Ost-Nord total' : 1,\n",
    "    'Ost-SBB total' : 2,\n",
    "    'West-SBB total' : 3,\n",
    "    'West-Süd total' : 4,\n",
    "    'Ost-VBZ Total' : 5,\n",
    "    'West-Nord total' : 6,\n",
    "    'West-VBZ total' : 7,\n",
    "}\n",
    "hb2['name_cat'] = hb2['Name'].replace(names)"
   ]
  },
  {
   "cell_type": "code",
   "execution_count": null,
   "metadata": {
    "colab": {
     "base_uri": "https://localhost:8080/",
     "height": 684
    },
    "executionInfo": {
     "elapsed": 33242,
     "status": "ok",
     "timestamp": 1611602193172,
     "user": {
      "displayName": "Alexander Güntert",
      "photoUrl": "https://lh3.googleusercontent.com/a-/AOh14GjIDZOV3Kdu3TWlEjJZTL18T1k0eIq5QemDHh7vsA=s64",
      "userId": "02684316521139958264"
     },
     "user_tz": -60
    },
    "id": "tFTCCCf1tI7P",
    "outputId": "3770f156-ebae-4824-a266-bfc1125878a2"
   },
   "outputs": [
    {
     "data": {
      "text/html": [
       "<div>\n",
       "<style scoped>\n",
       "    .dataframe tbody tr th:only-of-type {\n",
       "        vertical-align: middle;\n",
       "    }\n",
       "\n",
       "    .dataframe tbody tr th {\n",
       "        vertical-align: top;\n",
       "    }\n",
       "\n",
       "    .dataframe thead th {\n",
       "        text-align: right;\n",
       "    }\n",
       "</style>\n",
       "<table border=\"1\" class=\"dataframe\">\n",
       "  <thead>\n",
       "    <tr style=\"text-align: right;\">\n",
       "      <th></th>\n",
       "      <th>Timestamp</th>\n",
       "      <th>Name</th>\n",
       "      <th>direction</th>\n",
       "      <th>count</th>\n",
       "      <th>hour</th>\n",
       "      <th>weekday</th>\n",
       "      <th>minute</th>\n",
       "      <th>month</th>\n",
       "      <th>direction_cat</th>\n",
       "      <th>name_cat</th>\n",
       "    </tr>\n",
       "  </thead>\n",
       "  <tbody>\n",
       "    <tr>\n",
       "      <th>0</th>\n",
       "      <td>2020-01-01 23:55:00</td>\n",
       "      <td>Ost-Nord total</td>\n",
       "      <td>In</td>\n",
       "      <td>1</td>\n",
       "      <td>23</td>\n",
       "      <td>2</td>\n",
       "      <td>55</td>\n",
       "      <td>1</td>\n",
       "      <td>0</td>\n",
       "      <td>1</td>\n",
       "    </tr>\n",
       "    <tr>\n",
       "      <th>1</th>\n",
       "      <td>2020-01-01 23:55:00</td>\n",
       "      <td>Ost-Nord total</td>\n",
       "      <td>Out</td>\n",
       "      <td>0</td>\n",
       "      <td>23</td>\n",
       "      <td>2</td>\n",
       "      <td>55</td>\n",
       "      <td>1</td>\n",
       "      <td>1</td>\n",
       "      <td>1</td>\n",
       "    </tr>\n",
       "    <tr>\n",
       "      <th>2</th>\n",
       "      <td>2020-01-01 23:50:00</td>\n",
       "      <td>Ost-Nord total</td>\n",
       "      <td>In</td>\n",
       "      <td>2</td>\n",
       "      <td>23</td>\n",
       "      <td>2</td>\n",
       "      <td>50</td>\n",
       "      <td>1</td>\n",
       "      <td>0</td>\n",
       "      <td>1</td>\n",
       "    </tr>\n",
       "    <tr>\n",
       "      <th>3</th>\n",
       "      <td>2020-01-01 23:50:00</td>\n",
       "      <td>Ost-Nord total</td>\n",
       "      <td>Out</td>\n",
       "      <td>5</td>\n",
       "      <td>23</td>\n",
       "      <td>2</td>\n",
       "      <td>50</td>\n",
       "      <td>1</td>\n",
       "      <td>1</td>\n",
       "      <td>1</td>\n",
       "    </tr>\n",
       "    <tr>\n",
       "      <th>4</th>\n",
       "      <td>2020-01-01 23:45:00</td>\n",
       "      <td>Ost-Nord total</td>\n",
       "      <td>In</td>\n",
       "      <td>1</td>\n",
       "      <td>23</td>\n",
       "      <td>2</td>\n",
       "      <td>45</td>\n",
       "      <td>1</td>\n",
       "      <td>0</td>\n",
       "      <td>1</td>\n",
       "    </tr>\n",
       "    <tr>\n",
       "      <th>...</th>\n",
       "      <td>...</td>\n",
       "      <td>...</td>\n",
       "      <td>...</td>\n",
       "      <td>...</td>\n",
       "      <td>...</td>\n",
       "      <td>...</td>\n",
       "      <td>...</td>\n",
       "      <td>...</td>\n",
       "      <td>...</td>\n",
       "      <td>...</td>\n",
       "    </tr>\n",
       "    <tr>\n",
       "      <th>1429357</th>\n",
       "      <td>2020-12-31 00:15:00</td>\n",
       "      <td>West-VBZ total</td>\n",
       "      <td>Out</td>\n",
       "      <td>4</td>\n",
       "      <td>0</td>\n",
       "      <td>3</td>\n",
       "      <td>15</td>\n",
       "      <td>12</td>\n",
       "      <td>1</td>\n",
       "      <td>7</td>\n",
       "    </tr>\n",
       "    <tr>\n",
       "      <th>1429358</th>\n",
       "      <td>2020-12-31 00:10:00</td>\n",
       "      <td>West-VBZ total</td>\n",
       "      <td>In</td>\n",
       "      <td>3</td>\n",
       "      <td>0</td>\n",
       "      <td>3</td>\n",
       "      <td>10</td>\n",
       "      <td>12</td>\n",
       "      <td>0</td>\n",
       "      <td>7</td>\n",
       "    </tr>\n",
       "    <tr>\n",
       "      <th>1429359</th>\n",
       "      <td>2020-12-31 00:10:00</td>\n",
       "      <td>West-VBZ total</td>\n",
       "      <td>Out</td>\n",
       "      <td>5</td>\n",
       "      <td>0</td>\n",
       "      <td>3</td>\n",
       "      <td>10</td>\n",
       "      <td>12</td>\n",
       "      <td>1</td>\n",
       "      <td>7</td>\n",
       "    </tr>\n",
       "    <tr>\n",
       "      <th>1429360</th>\n",
       "      <td>2020-12-31 00:05:00</td>\n",
       "      <td>West-VBZ total</td>\n",
       "      <td>In</td>\n",
       "      <td>4</td>\n",
       "      <td>0</td>\n",
       "      <td>3</td>\n",
       "      <td>5</td>\n",
       "      <td>12</td>\n",
       "      <td>0</td>\n",
       "      <td>7</td>\n",
       "    </tr>\n",
       "    <tr>\n",
       "      <th>1429361</th>\n",
       "      <td>2020-12-31 00:05:00</td>\n",
       "      <td>West-VBZ total</td>\n",
       "      <td>Out</td>\n",
       "      <td>3</td>\n",
       "      <td>0</td>\n",
       "      <td>3</td>\n",
       "      <td>5</td>\n",
       "      <td>12</td>\n",
       "      <td>1</td>\n",
       "      <td>7</td>\n",
       "    </tr>\n",
       "  </tbody>\n",
       "</table>\n",
       "<p>1429362 rows × 10 columns</p>\n",
       "</div>"
      ],
      "text/plain": [
       "                  Timestamp            Name  ... direction_cat  name_cat\n",
       "0       2020-01-01 23:55:00  Ost-Nord total  ...             0         1\n",
       "1       2020-01-01 23:55:00  Ost-Nord total  ...             1         1\n",
       "2       2020-01-01 23:50:00  Ost-Nord total  ...             0         1\n",
       "3       2020-01-01 23:50:00  Ost-Nord total  ...             1         1\n",
       "4       2020-01-01 23:45:00  Ost-Nord total  ...             0         1\n",
       "...                     ...             ...  ...           ...       ...\n",
       "1429357 2020-12-31 00:15:00  West-VBZ total  ...             1         7\n",
       "1429358 2020-12-31 00:10:00  West-VBZ total  ...             0         7\n",
       "1429359 2020-12-31 00:10:00  West-VBZ total  ...             1         7\n",
       "1429360 2020-12-31 00:05:00  West-VBZ total  ...             0         7\n",
       "1429361 2020-12-31 00:05:00  West-VBZ total  ...             1         7\n",
       "\n",
       "[1429362 rows x 10 columns]"
      ]
     },
     "execution_count": 19,
     "metadata": {
      "tags": []
     },
     "output_type": "execute_result"
    }
   ],
   "source": [
    "hb2"
   ]
  },
  {
   "cell_type": "code",
   "execution_count": null,
   "metadata": {
    "colab": {
     "base_uri": "https://localhost:8080/",
     "height": 296
    },
    "executionInfo": {
     "elapsed": 41789,
     "status": "ok",
     "timestamp": 1611602201740,
     "user": {
      "displayName": "Alexander Güntert",
      "photoUrl": "https://lh3.googleusercontent.com/a-/AOh14GjIDZOV3Kdu3TWlEjJZTL18T1k0eIq5QemDHh7vsA=s64",
      "userId": "02684316521139958264"
     },
     "user_tz": -60
    },
    "id": "gw_caE0ul5fe",
    "outputId": "d5a385d9-d872-4537-e770-f82b509499fb"
   },
   "outputs": [
    {
     "data": {
      "text/plain": [
       "<matplotlib.axes._subplots.AxesSubplot at 0x7faec2e55668>"
      ]
     },
     "execution_count": 20,
     "metadata": {
      "tags": []
     },
     "output_type": "execute_result"
    },
    {
     "data": {
      "image/png": "[encoded data removed]",
      "text/plain": [
       "<Figure size 432x288 with 1 Axes>"
      ]
     },
     "metadata": {
      "needs_background": "light",
      "tags": []
     },
     "output_type": "display_data"
    }
   ],
   "source": [
    "sns.histplot(data=hb2,x='count',hue='direction')"
   ]
  },
  {
   "cell_type": "code",
   "execution_count": null,
   "metadata": {
    "colab": {
     "base_uri": "https://localhost:8080/",
     "height": 296
    },
    "executionInfo": {
     "elapsed": 43000,
     "status": "ok",
     "timestamp": 1611602202980,
     "user": {
      "displayName": "Alexander Güntert",
      "photoUrl": "https://lh3.googleusercontent.com/a-/AOh14GjIDZOV3Kdu3TWlEjJZTL18T1k0eIq5QemDHh7vsA=s64",
      "userId": "02684316521139958264"
     },
     "user_tz": -60
    },
    "id": "9m2NzVonACbM",
    "outputId": "30d308ae-0309-44d3-daed-ba1990f831a9"
   },
   "outputs": [
    {
     "data": {
      "text/plain": [
       "<matplotlib.axes._subplots.AxesSubplot at 0x7faec3014f28>"
      ]
     },
     "execution_count": 21,
     "metadata": {
      "tags": []
     },
     "output_type": "execute_result"
    },
    {
     "data": {
      "image/png": "[encoded data removed]",
      "text/plain": [
       "<Figure size 432x288 with 1 Axes>"
      ]
     },
     "metadata": {
      "needs_background": "light",
      "tags": []
     },
     "output_type": "display_data"
    }
   ],
   "source": [
    "sns.boxplot(data=hb2,x='count',y='direction')"
   ]
  },
  {
   "cell_type": "code",
   "execution_count": null,
   "metadata": {
    "colab": {
     "base_uri": "https://localhost:8080/"
    },
    "executionInfo": {
     "elapsed": 42990,
     "status": "ok",
     "timestamp": 1611602202984,
     "user": {
      "displayName": "Alexander Güntert",
      "photoUrl": "https://lh3.googleusercontent.com/a-/AOh14GjIDZOV3Kdu3TWlEjJZTL18T1k0eIq5QemDHh7vsA=s64",
      "userId": "02684316521139958264"
     },
     "user_tz": -60
    },
    "id": "e6fTBkx07cxZ",
    "outputId": "6d93fd6a-0bc2-4ee8-eb12-547adceab1b6"
   },
   "outputs": [
    {
     "data": {
      "text/plain": [
       "Ost-Süd total      188858\n",
       "Ost-Nord total     184822\n",
       "Ost-SBB total      181088\n",
       "West-SBB total     180502\n",
       "West-Süd total     178876\n",
       "Ost-VBZ Total      174570\n",
       "West-Nord total    171872\n",
       "West-VBZ total     168774\n",
       "Name: Name, dtype: int64"
      ]
     },
     "execution_count": 22,
     "metadata": {
      "tags": []
     },
     "output_type": "execute_result"
    }
   ],
   "source": [
    "hb2['Name'].value_counts()"
   ]
  },
  {
   "cell_type": "code",
   "execution_count": null,
   "metadata": {
    "colab": {
     "base_uri": "https://localhost:8080/"
    },
    "executionInfo": {
     "elapsed": 42980,
     "status": "ok",
     "timestamp": 1611602202988,
     "user": {
      "displayName": "Alexander Güntert",
      "photoUrl": "https://lh3.googleusercontent.com/a-/AOh14GjIDZOV3Kdu3TWlEjJZTL18T1k0eIq5QemDHh7vsA=s64",
      "userId": "02684316521139958264"
     },
     "user_tz": -60
    },
    "id": "P4VpiZDk791U",
    "outputId": "62677b4c-0f1c-40e5-a331-40cdc32a1cf1"
   },
   "outputs": [
    {
     "data": {
      "text/plain": [
       "Out    714681\n",
       "In     714681\n",
       "Name: direction, dtype: int64"
      ]
     },
     "execution_count": 23,
     "metadata": {
      "tags": []
     },
     "output_type": "execute_result"
    }
   ],
   "source": [
    "hb2['direction'].value_counts()"
   ]
  },
  {
   "cell_type": "code",
   "execution_count": null,
   "metadata": {
    "colab": {
     "base_uri": "https://localhost:8080/",
     "height": 364
    },
    "executionInfo": {
     "elapsed": 43624,
     "status": "ok",
     "timestamp": 1611602203647,
     "user": {
      "displayName": "Alexander Güntert",
      "photoUrl": "https://lh3.googleusercontent.com/a-/AOh14GjIDZOV3Kdu3TWlEjJZTL18T1k0eIq5QemDHh7vsA=s64",
      "userId": "02684316521139958264"
     },
     "user_tz": -60
    },
    "id": "5VF4Iz8K8Jwk",
    "outputId": "66f54cef-cc8b-4e59-af59-c8878786881c"
   },
   "outputs": [
    {
     "data": {
      "text/plain": [
       "(array([0, 1, 2, 3, 4, 5, 6, 7]), <a list of 8 Text major ticklabel objects>)"
      ]
     },
     "execution_count": 24,
     "metadata": {
      "tags": []
     },
     "output_type": "execute_result"
    },
    {
     "data": {
      "image/png": "[encoded data removed]",
      "text/plain": [
       "<Figure size 432x288 with 1 Axes>"
      ]
     },
     "metadata": {
      "needs_background": "light",
      "tags": []
     },
     "output_type": "display_data"
    }
   ],
   "source": [
    "name = hb2.groupby(['Name','direction'])['count'].mean()\n",
    "sns.barplot(data=name.reset_index(),x='Name',y='count',hue='direction')\n",
    "plt.xticks(rotation = 90)"
   ]
  },
  {
   "cell_type": "code",
   "execution_count": null,
   "metadata": {
    "colab": {
     "base_uri": "https://localhost:8080/",
     "height": 296
    },
    "executionInfo": {
     "elapsed": 44105,
     "status": "ok",
     "timestamp": 1611602204140,
     "user": {
      "displayName": "Alexander Güntert",
      "photoUrl": "https://lh3.googleusercontent.com/a-/AOh14GjIDZOV3Kdu3TWlEjJZTL18T1k0eIq5QemDHh7vsA=s64",
      "userId": "02684316521139958264"
     },
     "user_tz": -60
    },
    "id": "1lv-ruM_8k8e",
    "outputId": "861cae3f-0a7e-4a0e-922b-85ec666b810e"
   },
   "outputs": [
    {
     "data": {
      "text/plain": [
       "<matplotlib.axes._subplots.AxesSubplot at 0x7faec2f650b8>"
      ]
     },
     "execution_count": 25,
     "metadata": {
      "tags": []
     },
     "output_type": "execute_result"
    },
    {
     "data": {
      "image/png": "[encoded data removed]",
      "text/plain": [
       "<Figure size 432x288 with 1 Axes>"
      ]
     },
     "metadata": {
      "needs_background": "light",
      "tags": []
     },
     "output_type": "display_data"
    }
   ],
   "source": [
    "months = hb2.groupby(['month','direction'])['count'].mean()\n",
    "sns.lineplot(data=months.reset_index(),x='month',y='count',hue='direction')"
   ]
  },
  {
   "cell_type": "code",
   "execution_count": null,
   "metadata": {
    "colab": {
     "base_uri": "https://localhost:8080/",
     "height": 296
    },
    "executionInfo": {
     "elapsed": 44549,
     "status": "ok",
     "timestamp": 1611602204595,
     "user": {
      "displayName": "Alexander Güntert",
      "photoUrl": "https://lh3.googleusercontent.com/a-/AOh14GjIDZOV3Kdu3TWlEjJZTL18T1k0eIq5QemDHh7vsA=s64",
      "userId": "02684316521139958264"
     },
     "user_tz": -60
    },
    "id": "Yc1UhXBT9we5",
    "outputId": "878d3da0-45f6-4898-a0a4-f4f6d893a00c"
   },
   "outputs": [
    {
     "data": {
      "text/plain": [
       "<matplotlib.axes._subplots.AxesSubplot at 0x7faec1afdd30>"
      ]
     },
     "execution_count": 26,
     "metadata": {
      "tags": []
     },
     "output_type": "execute_result"
    },
    {
     "data": {
      "image/png": "[encoded data removed]",
      "text/plain": [
       "<Figure size 432x288 with 1 Axes>"
      ]
     },
     "metadata": {
      "needs_background": "light",
      "tags": []
     },
     "output_type": "display_data"
    }
   ],
   "source": [
    "hour = hb2.groupby(['hour','direction'])['count'].mean()\n",
    "sns.lineplot(data=hour.reset_index(),x='hour',y='count',hue='direction')"
   ]
  },
  {
   "cell_type": "code",
   "execution_count": null,
   "metadata": {
    "colab": {
     "base_uri": "https://localhost:8080/",
     "height": 296
    },
    "executionInfo": {
     "elapsed": 45161,
     "status": "ok",
     "timestamp": 1611602205217,
     "user": {
      "displayName": "Alexander Güntert",
      "photoUrl": "https://lh3.googleusercontent.com/a-/AOh14GjIDZOV3Kdu3TWlEjJZTL18T1k0eIq5QemDHh7vsA=s64",
      "userId": "02684316521139958264"
     },
     "user_tz": -60
    },
    "id": "7m2sU2Sb95bb",
    "outputId": "fb725e1f-365c-4666-8d1b-4a9ef40d7d17"
   },
   "outputs": [
    {
     "data": {
      "text/plain": [
       "<matplotlib.axes._subplots.AxesSubplot at 0x7faec1d46978>"
      ]
     },
     "execution_count": 27,
     "metadata": {
      "tags": []
     },
     "output_type": "execute_result"
    },
    {
     "data": {
      "image/png": "[encoded data removed]",
      "text/plain": [
       "<Figure size 432x288 with 1 Axes>"
      ]
     },
     "metadata": {
      "needs_background": "light",
      "tags": []
     },
     "output_type": "display_data"
    }
   ],
   "source": [
    "minute = hb2.groupby(['minute','direction'])['count'].mean()\n",
    "sns.lineplot(data=minute.reset_index(),x='minute',y='count',hue='direction')"
   ]
  },
  {
   "cell_type": "code",
   "execution_count": null,
   "metadata": {
    "colab": {
     "base_uri": "https://localhost:8080/",
     "height": 296
    },
    "executionInfo": {
     "elapsed": 45154,
     "status": "ok",
     "timestamp": 1611602205221,
     "user": {
      "displayName": "Alexander Güntert",
      "photoUrl": "https://lh3.googleusercontent.com/a-/AOh14GjIDZOV3Kdu3TWlEjJZTL18T1k0eIq5QemDHh7vsA=s64",
      "userId": "02684316521139958264"
     },
     "user_tz": -60
    },
    "id": "WatPLsRj-P_w",
    "outputId": "b56affcf-a055-46fd-b89d-a950f35b4c5b"
   },
   "outputs": [
    {
     "data": {
      "text/plain": [
       "<matplotlib.axes._subplots.AxesSubplot at 0x7faec4202320>"
      ]
     },
     "execution_count": 28,
     "metadata": {
      "tags": []
     },
     "output_type": "execute_result"
    },
    {
     "data": {
      "image/png": "[encoded data removed]",
      "text/plain": [
       "<Figure size 432x288 with 1 Axes>"
      ]
     },
     "metadata": {
      "needs_background": "light",
      "tags": []
     },
     "output_type": "display_data"
    }
   ],
   "source": [
    "weekday = hb2.groupby(['weekday','direction'])['count'].mean()\n",
    "sns.lineplot(data=weekday.reset_index(),x='weekday',y='count',hue='direction')"
   ]
  },
  {
   "cell_type": "code",
   "execution_count": null,
   "metadata": {
    "colab": {
     "base_uri": "https://localhost:8080/",
     "height": 293
    },
    "executionInfo": {
     "elapsed": 45147,
     "status": "ok",
     "timestamp": 1611602205224,
     "user": {
      "displayName": "Alexander Güntert",
      "photoUrl": "https://lh3.googleusercontent.com/a-/AOh14GjIDZOV3Kdu3TWlEjJZTL18T1k0eIq5QemDHh7vsA=s64",
      "userId": "02684316521139958264"
     },
     "user_tz": -60
    },
    "id": "SUaOeNYg77ja",
    "outputId": "1a97dfd4-08e4-41c0-c0ce-aaad42539d55"
   },
   "outputs": [
    {
     "data": {
      "text/html": [
       "<div>\n",
       "<style scoped>\n",
       "    .dataframe tbody tr th:only-of-type {\n",
       "        vertical-align: middle;\n",
       "    }\n",
       "\n",
       "    .dataframe tbody tr th {\n",
       "        vertical-align: top;\n",
       "    }\n",
       "\n",
       "    .dataframe thead th {\n",
       "        text-align: right;\n",
       "    }\n",
       "</style>\n",
       "<table border=\"1\" class=\"dataframe\">\n",
       "  <thead>\n",
       "    <tr style=\"text-align: right;\">\n",
       "      <th></th>\n",
       "      <th>Timestamp</th>\n",
       "      <th>Name</th>\n",
       "      <th>direction</th>\n",
       "      <th>count</th>\n",
       "      <th>hour</th>\n",
       "      <th>weekday</th>\n",
       "      <th>minute</th>\n",
       "      <th>month</th>\n",
       "      <th>direction_cat</th>\n",
       "      <th>name_cat</th>\n",
       "    </tr>\n",
       "  </thead>\n",
       "  <tbody>\n",
       "    <tr>\n",
       "      <th>0</th>\n",
       "      <td>2020-01-01 23:55:00</td>\n",
       "      <td>Ost-Nord total</td>\n",
       "      <td>In</td>\n",
       "      <td>1</td>\n",
       "      <td>23</td>\n",
       "      <td>2</td>\n",
       "      <td>55</td>\n",
       "      <td>1</td>\n",
       "      <td>0</td>\n",
       "      <td>1</td>\n",
       "    </tr>\n",
       "    <tr>\n",
       "      <th>1</th>\n",
       "      <td>2020-01-01 23:55:00</td>\n",
       "      <td>Ost-Nord total</td>\n",
       "      <td>Out</td>\n",
       "      <td>0</td>\n",
       "      <td>23</td>\n",
       "      <td>2</td>\n",
       "      <td>55</td>\n",
       "      <td>1</td>\n",
       "      <td>1</td>\n",
       "      <td>1</td>\n",
       "    </tr>\n",
       "    <tr>\n",
       "      <th>2</th>\n",
       "      <td>2020-01-01 23:50:00</td>\n",
       "      <td>Ost-Nord total</td>\n",
       "      <td>In</td>\n",
       "      <td>2</td>\n",
       "      <td>23</td>\n",
       "      <td>2</td>\n",
       "      <td>50</td>\n",
       "      <td>1</td>\n",
       "      <td>0</td>\n",
       "      <td>1</td>\n",
       "    </tr>\n",
       "    <tr>\n",
       "      <th>3</th>\n",
       "      <td>2020-01-01 23:50:00</td>\n",
       "      <td>Ost-Nord total</td>\n",
       "      <td>Out</td>\n",
       "      <td>5</td>\n",
       "      <td>23</td>\n",
       "      <td>2</td>\n",
       "      <td>50</td>\n",
       "      <td>1</td>\n",
       "      <td>1</td>\n",
       "      <td>1</td>\n",
       "    </tr>\n",
       "    <tr>\n",
       "      <th>4</th>\n",
       "      <td>2020-01-01 23:45:00</td>\n",
       "      <td>Ost-Nord total</td>\n",
       "      <td>In</td>\n",
       "      <td>1</td>\n",
       "      <td>23</td>\n",
       "      <td>2</td>\n",
       "      <td>45</td>\n",
       "      <td>1</td>\n",
       "      <td>0</td>\n",
       "      <td>1</td>\n",
       "    </tr>\n",
       "  </tbody>\n",
       "</table>\n",
       "</div>"
      ],
      "text/plain": [
       "            Timestamp            Name direction  ...  month  direction_cat  name_cat\n",
       "0 2020-01-01 23:55:00  Ost-Nord total        In  ...      1              0         1\n",
       "1 2020-01-01 23:55:00  Ost-Nord total       Out  ...      1              1         1\n",
       "2 2020-01-01 23:50:00  Ost-Nord total        In  ...      1              0         1\n",
       "3 2020-01-01 23:50:00  Ost-Nord total       Out  ...      1              1         1\n",
       "4 2020-01-01 23:45:00  Ost-Nord total        In  ...      1              0         1\n",
       "\n",
       "[5 rows x 10 columns]"
      ]
     },
     "execution_count": 29,
     "metadata": {
      "tags": []
     },
     "output_type": "execute_result"
    }
   ],
   "source": [
    "hb2.head()"
   ]
  },
  {
   "cell_type": "markdown",
   "metadata": {
    "id": "akiOxqTdgB9S"
   },
   "source": [
    "# Machine Learning"
   ]
  },
  {
   "cell_type": "code",
   "execution_count": null,
   "metadata": {
    "id": "RooLexsZtg_Z"
   },
   "outputs": [],
   "source": [
    "from sklearn.model_selection import train_test_split \n",
    "from sklearn.tree import DecisionTreeRegressor  \n",
    "from sklearn.ensemble import RandomForestRegressor\n",
    "from sklearn.linear_model import LinearRegression\n",
    "from sklearn import metrics "
   ]
  },
  {
   "cell_type": "code",
   "execution_count": null,
   "metadata": {
    "colab": {
     "base_uri": "https://localhost:8080/",
     "height": 293
    },
    "executionInfo": {
     "elapsed": 45503,
     "status": "ok",
     "timestamp": 1611602205595,
     "user": {
      "displayName": "Alexander Güntert",
      "photoUrl": "https://lh3.googleusercontent.com/a-/AOh14GjIDZOV3Kdu3TWlEjJZTL18T1k0eIq5QemDHh7vsA=s64",
      "userId": "02684316521139958264"
     },
     "user_tz": -60
    },
    "id": "3R5EOLyStlau",
    "outputId": "c7fc038f-3c7d-41f4-e5a6-d787a685be8b"
   },
   "outputs": [
    {
     "data": {
      "text/html": [
       "<div>\n",
       "<style scoped>\n",
       "    .dataframe tbody tr th:only-of-type {\n",
       "        vertical-align: middle;\n",
       "    }\n",
       "\n",
       "    .dataframe tbody tr th {\n",
       "        vertical-align: top;\n",
       "    }\n",
       "\n",
       "    .dataframe thead th {\n",
       "        text-align: right;\n",
       "    }\n",
       "</style>\n",
       "<table border=\"1\" class=\"dataframe\">\n",
       "  <thead>\n",
       "    <tr style=\"text-align: right;\">\n",
       "      <th></th>\n",
       "      <th>Timestamp</th>\n",
       "      <th>Name</th>\n",
       "      <th>direction</th>\n",
       "      <th>count</th>\n",
       "      <th>hour</th>\n",
       "      <th>weekday</th>\n",
       "      <th>minute</th>\n",
       "      <th>month</th>\n",
       "      <th>direction_cat</th>\n",
       "      <th>name_cat</th>\n",
       "    </tr>\n",
       "  </thead>\n",
       "  <tbody>\n",
       "    <tr>\n",
       "      <th>0</th>\n",
       "      <td>2020-01-01 23:55:00</td>\n",
       "      <td>Ost-Nord total</td>\n",
       "      <td>In</td>\n",
       "      <td>1</td>\n",
       "      <td>23</td>\n",
       "      <td>2</td>\n",
       "      <td>55</td>\n",
       "      <td>1</td>\n",
       "      <td>0</td>\n",
       "      <td>1</td>\n",
       "    </tr>\n",
       "    <tr>\n",
       "      <th>1</th>\n",
       "      <td>2020-01-01 23:55:00</td>\n",
       "      <td>Ost-Nord total</td>\n",
       "      <td>Out</td>\n",
       "      <td>0</td>\n",
       "      <td>23</td>\n",
       "      <td>2</td>\n",
       "      <td>55</td>\n",
       "      <td>1</td>\n",
       "      <td>1</td>\n",
       "      <td>1</td>\n",
       "    </tr>\n",
       "    <tr>\n",
       "      <th>2</th>\n",
       "      <td>2020-01-01 23:50:00</td>\n",
       "      <td>Ost-Nord total</td>\n",
       "      <td>In</td>\n",
       "      <td>2</td>\n",
       "      <td>23</td>\n",
       "      <td>2</td>\n",
       "      <td>50</td>\n",
       "      <td>1</td>\n",
       "      <td>0</td>\n",
       "      <td>1</td>\n",
       "    </tr>\n",
       "    <tr>\n",
       "      <th>3</th>\n",
       "      <td>2020-01-01 23:50:00</td>\n",
       "      <td>Ost-Nord total</td>\n",
       "      <td>Out</td>\n",
       "      <td>5</td>\n",
       "      <td>23</td>\n",
       "      <td>2</td>\n",
       "      <td>50</td>\n",
       "      <td>1</td>\n",
       "      <td>1</td>\n",
       "      <td>1</td>\n",
       "    </tr>\n",
       "    <tr>\n",
       "      <th>4</th>\n",
       "      <td>2020-01-01 23:45:00</td>\n",
       "      <td>Ost-Nord total</td>\n",
       "      <td>In</td>\n",
       "      <td>1</td>\n",
       "      <td>23</td>\n",
       "      <td>2</td>\n",
       "      <td>45</td>\n",
       "      <td>1</td>\n",
       "      <td>0</td>\n",
       "      <td>1</td>\n",
       "    </tr>\n",
       "  </tbody>\n",
       "</table>\n",
       "</div>"
      ],
      "text/plain": [
       "            Timestamp            Name direction  ...  month  direction_cat  name_cat\n",
       "0 2020-01-01 23:55:00  Ost-Nord total        In  ...      1              0         1\n",
       "1 2020-01-01 23:55:00  Ost-Nord total       Out  ...      1              1         1\n",
       "2 2020-01-01 23:50:00  Ost-Nord total        In  ...      1              0         1\n",
       "3 2020-01-01 23:50:00  Ost-Nord total       Out  ...      1              1         1\n",
       "4 2020-01-01 23:45:00  Ost-Nord total        In  ...      1              0         1\n",
       "\n",
       "[5 rows x 10 columns]"
      ]
     },
     "execution_count": 31,
     "metadata": {
      "tags": []
     },
     "output_type": "execute_result"
    }
   ],
   "source": [
    "hb2.head()"
   ]
  },
  {
   "cell_type": "code",
   "execution_count": null,
   "metadata": {
    "colab": {
     "base_uri": "https://localhost:8080/"
    },
    "executionInfo": {
     "elapsed": 45496,
     "status": "ok",
     "timestamp": 1611602205597,
     "user": {
      "displayName": "Alexander Güntert",
      "photoUrl": "https://lh3.googleusercontent.com/a-/AOh14GjIDZOV3Kdu3TWlEjJZTL18T1k0eIq5QemDHh7vsA=s64",
      "userId": "02684316521139958264"
     },
     "user_tz": -60
    },
    "id": "-gPBZ9rjB5HC",
    "outputId": "4041aca8-652b-4468-aeee-60c3d98c6bdb"
   },
   "outputs": [
    {
     "data": {
      "text/plain": [
       "hour\n",
       "0      181436\n",
       "1       57606\n",
       "2       34162\n",
       "3       24404\n",
       "4       45373\n",
       "5      165184\n",
       "6      751948\n",
       "7     1245079\n",
       "8     1127431\n",
       "9      646635\n",
       "10     544232\n",
       "11     603950\n",
       "12     741396\n",
       "13     768090\n",
       "14     777419\n",
       "15     918817\n",
       "16    1327327\n",
       "17    1753447\n",
       "18    1423607\n",
       "19     952249\n",
       "20     690066\n",
       "21     577319\n",
       "22     507321\n",
       "23     362127\n",
       "Name: count, dtype: int64"
      ]
     },
     "execution_count": 32,
     "metadata": {
      "tags": []
     },
     "output_type": "execute_result"
    }
   ],
   "source": [
    "hb2.groupby(['hour'])['count'].sum()"
   ]
  },
  {
   "cell_type": "code",
   "execution_count": null,
   "metadata": {
    "id": "xL5Icp3qthzD"
   },
   "outputs": [],
   "source": [
    "XList=[\n",
    "  'hour',\n",
    "  'weekday',\n",
    "  'minute',\n",
    "  'month',\n",
    "  'direction_cat',\n",
    "  'name_cat',\n",
    "]\n",
    "y='count'"
   ]
  },
  {
   "cell_type": "code",
   "execution_count": null,
   "metadata": {
    "id": "tI1hQ2Mdt5fF"
   },
   "outputs": [],
   "source": [
    "if True:\n",
    "  hb2X=hb2[XList]\n",
    "  hb2Y=hb2[y]\n",
    "  X_train, X_test, y_train, y_test = train_test_split(hb2X, hb2Y)  "
   ]
  },
  {
   "cell_type": "markdown",
   "metadata": {
    "id": "GXQNuQ1OuWsE"
   },
   "source": [
    "## Decicion Tree"
   ]
  },
  {
   "cell_type": "code",
   "execution_count": null,
   "metadata": {
    "colab": {
     "base_uri": "https://localhost:8080/"
    },
    "executionInfo": {
     "elapsed": 49626,
     "status": "ok",
     "timestamp": 1611602209744,
     "user": {
      "displayName": "Alexander Güntert",
      "photoUrl": "https://lh3.googleusercontent.com/a-/AOh14GjIDZOV3Kdu3TWlEjJZTL18T1k0eIq5QemDHh7vsA=s64",
      "userId": "02684316521139958264"
     },
     "user_tz": -60
    },
    "id": "PdM9jTxSuVRQ",
    "outputId": "9154e49f-08dd-44f8-9080-0afb08a1a6d6"
   },
   "outputs": [
    {
     "data": {
      "text/plain": [
       "DecisionTreeRegressor(ccp_alpha=0.0, criterion='mse', max_depth=15,\n",
       "                      max_features=None, max_leaf_nodes=None,\n",
       "                      min_impurity_decrease=0.0, min_impurity_split=None,\n",
       "                      min_samples_leaf=1, min_samples_split=2,\n",
       "                      min_weight_fraction_leaf=0.0, presort='deprecated',\n",
       "                      random_state=None, splitter='best')"
      ]
     },
     "execution_count": 35,
     "metadata": {
      "tags": []
     },
     "output_type": "execute_result"
    }
   ],
   "source": [
    "regressor = DecisionTreeRegressor(max_depth=15)  \n",
    "regressor.fit(X_train, y_train)  "
   ]
  },
  {
   "cell_type": "code",
   "execution_count": null,
   "metadata": {
    "id": "gtN2VyS__LAh"
   },
   "outputs": [],
   "source": [
    "import pickle"
   ]
  },
  {
   "cell_type": "code",
   "execution_count": null,
   "metadata": {
    "id": "y8_g78oh_Q2K"
   },
   "outputs": [],
   "source": [
    "filename = '/content/gdrive/MyDrive/ColabNotebooks/hardbruecke/models/DecisionTreeRegressor.sav'\n",
    "pickle.dump(regressor, open(filename, 'wb'))"
   ]
  },
  {
   "cell_type": "code",
   "execution_count": null,
   "metadata": {
    "id": "7Y309ThiA3_x"
   },
   "outputs": [],
   "source": [
    "regressor = pickle.load(open(filename, 'rb'))"
   ]
  },
  {
   "cell_type": "markdown",
   "metadata": {
    "id": "xpFLyt-hH5cn"
   },
   "source": [
    "Die anderen Modelle performen fast identisch. Einfache Transformationen haben nichts gebracht. Die Performance ist nicht optimal aber für einen ersten Test gut genug.\n",
    "\n",
    "Möglicherweise würden einige Zusatzinformationen noch etwas bringen. Z.B. Lockdown relevante Informationen, oder ein Feiertagskalender. Auch die Pünktlichkeitsdaten (bzw. der Fahrplan) könnten helfen.\n",
    "-> Komplexität der Implementierung sollte geprüft werden"
   ]
  },
  {
   "cell_type": "code",
   "execution_count": null,
   "metadata": {
    "id": "hK4RnDiTwgxq"
   },
   "outputs": [],
   "source": [
    "y_pred = regressor.predict(X_test) "
   ]
  },
  {
   "cell_type": "code",
   "execution_count": null,
   "metadata": {
    "colab": {
     "base_uri": "https://localhost:8080/",
     "height": 677
    },
    "executionInfo": {
     "elapsed": 433,
     "status": "ok",
     "timestamp": 1611602841647,
     "user": {
      "displayName": "Alexander Güntert",
      "photoUrl": "https://lh3.googleusercontent.com/a-/AOh14GjIDZOV3Kdu3TWlEjJZTL18T1k0eIq5QemDHh7vsA=s64",
      "userId": "02684316521139958264"
     },
     "user_tz": -60
    },
    "id": "RCINonyZwlbu",
    "outputId": "c4ba494e-8de1-4f8a-a2f5-7e3d071738e0"
   },
   "outputs": [
    {
     "data": {
      "text/html": [
       "<div>\n",
       "<style scoped>\n",
       "    .dataframe tbody tr th:only-of-type {\n",
       "        vertical-align: middle;\n",
       "    }\n",
       "\n",
       "    .dataframe tbody tr th {\n",
       "        vertical-align: top;\n",
       "    }\n",
       "\n",
       "    .dataframe thead th {\n",
       "        text-align: right;\n",
       "    }\n",
       "</style>\n",
       "<table border=\"1\" class=\"dataframe\">\n",
       "  <thead>\n",
       "    <tr style=\"text-align: right;\">\n",
       "      <th></th>\n",
       "      <th>Actual</th>\n",
       "      <th>Predicted</th>\n",
       "    </tr>\n",
       "  </thead>\n",
       "  <tbody>\n",
       "    <tr>\n",
       "      <th>21550</th>\n",
       "      <td>5</td>\n",
       "      <td>6.068702</td>\n",
       "    </tr>\n",
       "    <tr>\n",
       "      <th>939102</th>\n",
       "      <td>11</td>\n",
       "      <td>13.948718</td>\n",
       "    </tr>\n",
       "    <tr>\n",
       "      <th>598313</th>\n",
       "      <td>18</td>\n",
       "      <td>8.669697</td>\n",
       "    </tr>\n",
       "    <tr>\n",
       "      <th>1190481</th>\n",
       "      <td>11</td>\n",
       "      <td>8.125000</td>\n",
       "    </tr>\n",
       "    <tr>\n",
       "      <th>533498</th>\n",
       "      <td>4</td>\n",
       "      <td>7.142857</td>\n",
       "    </tr>\n",
       "    <tr>\n",
       "      <th>745756</th>\n",
       "      <td>2</td>\n",
       "      <td>8.884021</td>\n",
       "    </tr>\n",
       "    <tr>\n",
       "      <th>607591</th>\n",
       "      <td>4</td>\n",
       "      <td>13.587601</td>\n",
       "    </tr>\n",
       "    <tr>\n",
       "      <th>1397093</th>\n",
       "      <td>26</td>\n",
       "      <td>17.310517</td>\n",
       "    </tr>\n",
       "    <tr>\n",
       "      <th>1226828</th>\n",
       "      <td>3</td>\n",
       "      <td>2.641641</td>\n",
       "    </tr>\n",
       "    <tr>\n",
       "      <th>397012</th>\n",
       "      <td>8</td>\n",
       "      <td>7.473684</td>\n",
       "    </tr>\n",
       "    <tr>\n",
       "      <th>926328</th>\n",
       "      <td>33</td>\n",
       "      <td>43.400000</td>\n",
       "    </tr>\n",
       "    <tr>\n",
       "      <th>892128</th>\n",
       "      <td>16</td>\n",
       "      <td>12.300412</td>\n",
       "    </tr>\n",
       "    <tr>\n",
       "      <th>1345233</th>\n",
       "      <td>26</td>\n",
       "      <td>21.300000</td>\n",
       "    </tr>\n",
       "    <tr>\n",
       "      <th>905315</th>\n",
       "      <td>2</td>\n",
       "      <td>9.714286</td>\n",
       "    </tr>\n",
       "    <tr>\n",
       "      <th>1046603</th>\n",
       "      <td>7</td>\n",
       "      <td>12.343808</td>\n",
       "    </tr>\n",
       "    <tr>\n",
       "      <th>581210</th>\n",
       "      <td>5</td>\n",
       "      <td>9.115385</td>\n",
       "    </tr>\n",
       "    <tr>\n",
       "      <th>409380</th>\n",
       "      <td>1</td>\n",
       "      <td>3.125581</td>\n",
       "    </tr>\n",
       "    <tr>\n",
       "      <th>446360</th>\n",
       "      <td>8</td>\n",
       "      <td>6.130435</td>\n",
       "    </tr>\n",
       "    <tr>\n",
       "      <th>109347</th>\n",
       "      <td>23</td>\n",
       "      <td>23.130364</td>\n",
       "    </tr>\n",
       "    <tr>\n",
       "      <th>1279487</th>\n",
       "      <td>49</td>\n",
       "      <td>38.407407</td>\n",
       "    </tr>\n",
       "  </tbody>\n",
       "</table>\n",
       "</div>"
      ],
      "text/plain": [
       "         Actual  Predicted\n",
       "21550         5   6.068702\n",
       "939102       11  13.948718\n",
       "598313       18   8.669697\n",
       "1190481      11   8.125000\n",
       "533498        4   7.142857\n",
       "745756        2   8.884021\n",
       "607591        4  13.587601\n",
       "1397093      26  17.310517\n",
       "1226828       3   2.641641\n",
       "397012        8   7.473684\n",
       "926328       33  43.400000\n",
       "892128       16  12.300412\n",
       "1345233      26  21.300000\n",
       "905315        2   9.714286\n",
       "1046603       7  12.343808\n",
       "581210        5   9.115385\n",
       "409380        1   3.125581\n",
       "446360        8   6.130435\n",
       "109347       23  23.130364\n",
       "1279487      49  38.407407"
      ]
     },
     "execution_count": 46,
     "metadata": {
      "tags": []
     },
     "output_type": "execute_result"
    }
   ],
   "source": [
    "df=pd.DataFrame({'Actual':y_test, 'Predicted':y_pred})  \n",
    "df.head(20)"
   ]
  },
  {
   "cell_type": "code",
   "execution_count": null,
   "metadata": {
    "colab": {
     "base_uri": "https://localhost:8080/",
     "height": 238
    },
    "executionInfo": {
     "elapsed": 49616,
     "status": "ok",
     "timestamp": 1611602209759,
     "user": {
      "displayName": "Alexander Güntert",
      "photoUrl": "https://lh3.googleusercontent.com/a-/AOh14GjIDZOV3Kdu3TWlEjJZTL18T1k0eIq5QemDHh7vsA=s64",
      "userId": "02684316521139958264"
     },
     "user_tz": -60
    },
    "id": "CKEidJ--BN0n",
    "outputId": "c4d1a01c-6c10-492f-feb1-fa9c844425ea"
   },
   "outputs": [
    {
     "data": {
      "text/html": [
       "<div>\n",
       "<style scoped>\n",
       "    .dataframe tbody tr th:only-of-type {\n",
       "        vertical-align: middle;\n",
       "    }\n",
       "\n",
       "    .dataframe tbody tr th {\n",
       "        vertical-align: top;\n",
       "    }\n",
       "\n",
       "    .dataframe thead th {\n",
       "        text-align: right;\n",
       "    }\n",
       "</style>\n",
       "<table border=\"1\" class=\"dataframe\">\n",
       "  <thead>\n",
       "    <tr style=\"text-align: right;\">\n",
       "      <th></th>\n",
       "      <th>Importance</th>\n",
       "    </tr>\n",
       "  </thead>\n",
       "  <tbody>\n",
       "    <tr>\n",
       "      <th>hour</th>\n",
       "      <td>0.368319</td>\n",
       "    </tr>\n",
       "    <tr>\n",
       "      <th>weekday</th>\n",
       "      <td>0.094696</td>\n",
       "    </tr>\n",
       "    <tr>\n",
       "      <th>minute</th>\n",
       "      <td>0.043525</td>\n",
       "    </tr>\n",
       "    <tr>\n",
       "      <th>month</th>\n",
       "      <td>0.120148</td>\n",
       "    </tr>\n",
       "    <tr>\n",
       "      <th>direction_cat</th>\n",
       "      <td>0.111801</td>\n",
       "    </tr>\n",
       "    <tr>\n",
       "      <th>name_cat</th>\n",
       "      <td>0.261511</td>\n",
       "    </tr>\n",
       "  </tbody>\n",
       "</table>\n",
       "</div>"
      ],
      "text/plain": [
       "               Importance\n",
       "hour             0.368319\n",
       "weekday          0.094696\n",
       "minute           0.043525\n",
       "month            0.120148\n",
       "direction_cat    0.111801\n",
       "name_cat         0.261511"
      ]
     },
     "execution_count": 38,
     "metadata": {
      "tags": []
     },
     "output_type": "execute_result"
    }
   ],
   "source": [
    "importance = regressor.feature_importances_\n",
    "importance_df = pd.DataFrame(importance, index=X_train.columns, \n",
    "                      columns=[\"Importance\"])\n",
    "importance_df"
   ]
  },
  {
   "cell_type": "code",
   "execution_count": null,
   "metadata": {
    "colab": {
     "base_uri": "https://localhost:8080/"
    },
    "executionInfo": {
     "elapsed": 49610,
     "status": "ok",
     "timestamp": 1611602209761,
     "user": {
      "displayName": "Alexander Güntert",
      "photoUrl": "https://lh3.googleusercontent.com/a-/AOh14GjIDZOV3Kdu3TWlEjJZTL18T1k0eIq5QemDHh7vsA=s64",
      "userId": "02684316521139958264"
     },
     "user_tz": -60
    },
    "id": "wZWz7fGTwsSc",
    "outputId": "8cc62a71-88ee-44aa-928f-b9aee7734de0"
   },
   "outputs": [
    {
     "name": "stdout",
     "output_type": "stream",
     "text": [
      "Mean Absolute Error: 4.428023041012632\n",
      "Mean Squared Error: 57.67538931051158\n",
      "Root Mean Squared Error: 7.594431467233843\n"
     ]
    }
   ],
   "source": [
    "print('Mean Absolute Error:', metrics.mean_absolute_error(y_test, y_pred))\n",
    "print('Mean Squared Error:', metrics.mean_squared_error(y_test, y_pred))\n",
    "print('Root Mean Squared Error:', np.sqrt(metrics.mean_squared_error(y_test, y_pred)))\n",
    "#print 'R2 Score: ',metrics.r2_score(y_test, y_pred)"
   ]
  },
  {
   "cell_type": "code",
   "execution_count": null,
   "metadata": {
    "colab": {
     "base_uri": "https://localhost:8080/",
     "height": 544
    },
    "executionInfo": {
     "elapsed": 51458,
     "status": "ok",
     "timestamp": 1611348133950,
     "user": {
      "displayName": "Alexander Güntert",
      "photoUrl": "https://lh3.googleusercontent.com/a-/AOh14GjIDZOV3Kdu3TWlEjJZTL18T1k0eIq5QemDHh7vsA=s64",
      "userId": "02684316521139958264"
     },
     "user_tz": -60
    },
    "id": "rEWUfOkGwyEI",
    "outputId": "36b6d772-b1b6-484c-89f3-2ab6d3713eeb"
   },
   "outputs": [
    {
     "data": {
      "text/plain": [
       "(0.0, 240.0, -10.0, 210.0)"
      ]
     },
     "execution_count": 44,
     "metadata": {
      "tags": []
     },
     "output_type": "execute_result"
    },
    {
     "data": {
      "image/png": "[encoded data removed]",
      "text/plain": [
       "<Figure size 504x504 with 1 Axes>"
      ]
     },
     "metadata": {
      "needs_background": "light",
      "tags": []
     },
     "output_type": "display_data"
    }
   ],
   "source": [
    "# vorsicht: es wird nur ein Ausschnitt der Daten angezeigt\n",
    "sns.lmplot(x='Actual', y='Predicted', data=df,fit_reg=True,scatter_kws={\"color\":\"darkred\",\"alpha\":0.3,\"s\":3},height=7)\n",
    "# add y=x line\n",
    "plt.plot([0,200],[0,200], lw=2, color='#414242', linestyle='dashed') # ideallinie wo predicted = actual\n",
    "plt.axis('equal')\n"
   ]
  },
  {
   "cell_type": "code",
   "execution_count": null,
   "metadata": {
    "id": "ZiV_5SjhxAXC"
   },
   "outputs": [],
   "source": []
  },
  {
   "cell_type": "markdown",
   "metadata": {
    "id": "jf5pj6iZKYuo"
   },
   "source": [
    "## Radom Forest"
   ]
  },
  {
   "cell_type": "code",
   "execution_count": null,
   "metadata": {
    "colab": {
     "base_uri": "https://localhost:8080/"
    },
    "executionInfo": {
     "elapsed": 117395,
     "status": "ok",
     "timestamp": 1611333281852,
     "user": {
      "displayName": "Alexander Güntert",
      "photoUrl": "https://lh3.googleusercontent.com/a-/AOh14GjIDZOV3Kdu3TWlEjJZTL18T1k0eIq5QemDHh7vsA=s64",
      "userId": "02684316521139958264"
     },
     "user_tz": -60
    },
    "id": "fQ2yNMS7KYut",
    "outputId": "1840882f-80a4-493d-c51a-83c2b9f7e115"
   },
   "outputs": [
    {
     "data": {
      "text/plain": [
       "RandomForestRegressor(bootstrap=True, ccp_alpha=0.0, criterion='mse',\n",
       "                      max_depth=20, max_features='auto', max_leaf_nodes=None,\n",
       "                      max_samples=None, min_impurity_decrease=0.0,\n",
       "                      min_impurity_split=None, min_samples_leaf=1,\n",
       "                      min_samples_split=2, min_weight_fraction_leaf=0.0,\n",
       "                      n_estimators=30, n_jobs=-1, oob_score=False,\n",
       "                      random_state=None, verbose=0, warm_start=False)"
      ]
     },
     "execution_count": 30,
     "metadata": {
      "tags": []
     },
     "output_type": "execute_result"
    }
   ],
   "source": [
    "regressor = RandomForestRegressor(n_estimators=30,n_jobs=-1,max_depth=20) \n",
    "regressor.fit(X_train, y_train)  "
   ]
  },
  {
   "cell_type": "code",
   "execution_count": null,
   "metadata": {
    "colab": {
     "base_uri": "https://localhost:8080/"
    },
    "executionInfo": {
     "elapsed": 117390,
     "status": "ok",
     "timestamp": 1611333281856,
     "user": {
      "displayName": "Alexander Güntert",
      "photoUrl": "https://lh3.googleusercontent.com/a-/AOh14GjIDZOV3Kdu3TWlEjJZTL18T1k0eIq5QemDHh7vsA=s64",
      "userId": "02684316521139958264"
     },
     "user_tz": -60
    },
    "id": "ilVz5lPSxIp_",
    "outputId": "919d5e77-6aea-440d-a2bb-cbcc91a52d51"
   },
   "outputs": [
    {
     "name": "stdout",
     "output_type": "stream",
     "text": [
      "Mean Absolute Error: 4.41938015716363\n",
      "Mean Squared Error: 57.39614904325798\n",
      "Root Mean Squared Error: 7.57602462002718\n"
     ]
    }
   ],
   "source": [
    "print('Mean Absolute Error:', metrics.mean_absolute_error(y_test, y_pred))\n",
    "print('Mean Squared Error:', metrics.mean_squared_error(y_test, y_pred))\n",
    "print('Root Mean Squared Error:', np.sqrt(metrics.mean_squared_error(y_test, y_pred)))\n",
    "#print 'R2 Score: ',metrics.r2_score(y_test, y_pred)\n"
   ]
  },
  {
   "cell_type": "markdown",
   "metadata": {
    "id": "5Ox258MOzHsA"
   },
   "source": [
    "## Linear Regression"
   ]
  },
  {
   "cell_type": "code",
   "execution_count": null,
   "metadata": {
    "colab": {
     "base_uri": "https://localhost:8080/"
    },
    "executionInfo": {
     "elapsed": 117386,
     "status": "ok",
     "timestamp": 1611333281859,
     "user": {
      "displayName": "Alexander Güntert",
      "photoUrl": "https://lh3.googleusercontent.com/a-/AOh14GjIDZOV3Kdu3TWlEjJZTL18T1k0eIq5QemDHh7vsA=s64",
      "userId": "02684316521139958264"
     },
     "user_tz": -60
    },
    "id": "gpQNX-3Ayr2Y",
    "outputId": "6221d3d6-193c-4360-b54d-44a535b41224"
   },
   "outputs": [
    {
     "data": {
      "text/plain": [
       "LinearRegression(copy_X=True, fit_intercept=True, n_jobs=None, normalize=False)"
      ]
     },
     "execution_count": 32,
     "metadata": {
      "tags": []
     },
     "output_type": "execute_result"
    }
   ],
   "source": [
    "regressor = LinearRegression()\n",
    "regressor.fit(X_train, y_train)  "
   ]
  },
  {
   "cell_type": "code",
   "execution_count": null,
   "metadata": {
    "colab": {
     "base_uri": "https://localhost:8080/"
    },
    "executionInfo": {
     "elapsed": 117379,
     "status": "ok",
     "timestamp": 1611333281861,
     "user": {
      "displayName": "Alexander Güntert",
      "photoUrl": "https://lh3.googleusercontent.com/a-/AOh14GjIDZOV3Kdu3TWlEjJZTL18T1k0eIq5QemDHh7vsA=s64",
      "userId": "02684316521139958264"
     },
     "user_tz": -60
    },
    "id": "ddRkeE8dxetU",
    "outputId": "68f93fe7-94cd-4ac1-8ad2-ec020c31427c"
   },
   "outputs": [
    {
     "name": "stdout",
     "output_type": "stream",
     "text": [
      "Mean Absolute Error: 4.41938015716363\n",
      "Mean Squared Error: 57.39614904325798\n",
      "Root Mean Squared Error: 7.57602462002718\n"
     ]
    }
   ],
   "source": [
    "print('Mean Absolute Error:', metrics.mean_absolute_error(y_test, y_pred))\n",
    "print('Mean Squared Error:', metrics.mean_squared_error(y_test, y_pred))\n",
    "print('Root Mean Squared Error:', np.sqrt(metrics.mean_squared_error(y_test, y_pred)))\n",
    "#print 'R2 Score: ',metrics.r2_score(y_test, y_pred)"
   ]
  },
  {
   "cell_type": "code",
   "execution_count": null,
   "metadata": {
    "colab": {
     "base_uri": "https://localhost:8080/",
     "height": 307
    },
    "executionInfo": {
     "elapsed": 119387,
     "status": "ok",
     "timestamp": 1611333283879,
     "user": {
      "displayName": "Alexander Güntert",
      "photoUrl": "https://lh3.googleusercontent.com/a-/AOh14GjIDZOV3Kdu3TWlEjJZTL18T1k0eIq5QemDHh7vsA=s64",
      "userId": "02684316521139958264"
     },
     "user_tz": -60
    },
    "id": "ibkV_YyVxfqQ",
    "outputId": "877bf1f7-5a91-4cfd-fc60-e4d73fdeb9ff"
   },
   "outputs": [
    {
     "data": {
      "text/plain": [
       "<matplotlib.axes._subplots.AxesSubplot at 0x7f7ab14ffb00>"
      ]
     },
     "execution_count": 34,
     "metadata": {
      "tags": []
     },
     "output_type": "execute_result"
    },
    {
     "data": {
      "image/png": "[encoded data removed]",
      "text/plain": [
       "<Figure size 432x288 with 1 Axes>"
      ]
     },
     "metadata": {
      "needs_background": "light",
      "tags": []
     },
     "output_type": "display_data"
    }
   ],
   "source": [
    "sns.scatterplot(data=df,y='Predicted',x='Actual',alpha=0.3)"
   ]
  },
  {
   "cell_type": "markdown",
   "metadata": {
    "id": "fLtj1C4VjP-g"
   },
   "source": [
    "## lightgbm"
   ]
  },
  {
   "cell_type": "code",
   "execution_count": null,
   "metadata": {
    "id": "CaKlq3xLknLD"
   },
   "outputs": [],
   "source": [
    "import lightgbm as lgb"
   ]
  },
  {
   "cell_type": "markdown",
   "metadata": {
    "id": "fM0GHHedjP-h"
   },
   "source": [
    "LightGBM is a gradient boosting framework that uses tree based learning algorithms. It is designed to be distributed and efficient with the following advantages:\n",
    "- Faster training speed and higher efficiency.\n",
    "- Lower memory usage.\n",
    "- Better accuracy.\n",
    "- Support of parallel and GPU learning.\n",
    "- Capable of handling large-scale data.\n",
    "\n",
    "https://lightgbm.readthedocs.io/en/latest/\n",
    "\n",
    "Ausserdem können hier kategoriale Variablen explizit berücksichtigt werden."
   ]
  },
  {
   "cell_type": "code",
   "execution_count": null,
   "metadata": {
    "id": "fDttExYBjP-i"
   },
   "outputs": [],
   "source": [
    "# kategorielle Variablen\n",
    "categorical_features = ['direction_cat','name_cat','weekday']\n",
    "# alle Variablen\n",
    "XList=[\n",
    "  'hour',\n",
    "  'weekday',\n",
    "  'minute',\n",
    "  'month',\n",
    "  'direction_cat',\n",
    "  'name_cat',\n",
    "]\n",
    "y='count'"
   ]
  },
  {
   "cell_type": "markdown",
   "metadata": {
    "id": "KesSo3JrjP-i"
   },
   "source": [
    "#### Training"
   ]
  },
  {
   "cell_type": "code",
   "execution_count": null,
   "metadata": {
    "id": "MpNGMxw_jP-j"
   },
   "outputs": [],
   "source": [
    "lgb_train = lgb.Dataset(X_train, y_train\n",
    " ,feature_name = XList\n",
    " , categorical_feature = categorical_features\n",
    ")"
   ]
  },
  {
   "cell_type": "code",
   "execution_count": null,
   "metadata": {
    "colab": {
     "base_uri": "https://localhost:8080/"
    },
    "executionInfo": {
     "elapsed": 7581,
     "status": "ok",
     "timestamp": 1611343907784,
     "user": {
      "displayName": "Alexander Güntert",
      "photoUrl": "https://lh3.googleusercontent.com/a-/AOh14GjIDZOV3Kdu3TWlEjJZTL18T1k0eIq5QemDHh7vsA=s64",
      "userId": "02684316521139958264"
     },
     "user_tz": -60
    },
    "id": "W9sJKHyEjP-k",
    "outputId": "e4d8732d-db4e-4976-cd94-dae7ad194660"
   },
   "outputs": [
    {
     "name": "stderr",
     "output_type": "stream",
     "text": [
      "/usr/local/lib/python3.6/dist-packages/lightgbm/basic.py:1205: UserWarning:\n",
      "\n",
      "Using categorical_feature in Dataset.\n",
      "\n"
     ]
    }
   ],
   "source": [
    "params = {\n",
    " 'task': 'train' \n",
    " #, 'boosting_type': 'dart'\n",
    " #, 'max_depth' : 25\n",
    " , 'objective': 'regression' \n",
    " #, 'num_leaves':60\n",
    " #, 'num_class': num_of_classes\n",
    " , 'metric': 'mse' #'mae' #'rmsle' \n",
    " #,'min_data_in_leaf': 40\n",
    " #,'num_trees':100 # default 100\n",
    " #, 'min_data': 5\n",
    " #, 'verbose': -1\n",
    "}\n",
    "gbm = lgb.train(params, lgb_train)"
   ]
  },
  {
   "cell_type": "markdown",
   "metadata": {
    "id": "B1bgUx_2jP-l"
   },
   "source": [
    "#### Prognose"
   ]
  },
  {
   "cell_type": "code",
   "execution_count": null,
   "metadata": {
    "id": "1DrQMarxjP-l"
   },
   "outputs": [],
   "source": [
    "y_pred = gbm.predict(X_test)"
   ]
  },
  {
   "cell_type": "code",
   "execution_count": null,
   "metadata": {
    "colab": {
     "base_uri": "https://localhost:8080/",
     "height": 206
    },
    "executionInfo": {
     "elapsed": 1113,
     "status": "ok",
     "timestamp": 1611343913631,
     "user": {
      "displayName": "Alexander Güntert",
      "photoUrl": "https://lh3.googleusercontent.com/a-/AOh14GjIDZOV3Kdu3TWlEjJZTL18T1k0eIq5QemDHh7vsA=s64",
      "userId": "02684316521139958264"
     },
     "user_tz": -60
    },
    "id": "TK10AliWjP-m",
    "outputId": "a0a9ed21-129c-467f-fd48-affdde5dc80d"
   },
   "outputs": [
    {
     "data": {
      "text/html": [
       "<div>\n",
       "<style scoped>\n",
       "    .dataframe tbody tr th:only-of-type {\n",
       "        vertical-align: middle;\n",
       "    }\n",
       "\n",
       "    .dataframe tbody tr th {\n",
       "        vertical-align: top;\n",
       "    }\n",
       "\n",
       "    .dataframe thead th {\n",
       "        text-align: right;\n",
       "    }\n",
       "</style>\n",
       "<table border=\"1\" class=\"dataframe\">\n",
       "  <thead>\n",
       "    <tr style=\"text-align: right;\">\n",
       "      <th></th>\n",
       "      <th>Actual</th>\n",
       "      <th>Predicted</th>\n",
       "    </tr>\n",
       "  </thead>\n",
       "  <tbody>\n",
       "    <tr>\n",
       "      <th>225531</th>\n",
       "      <td>12</td>\n",
       "      <td>11.939739</td>\n",
       "    </tr>\n",
       "    <tr>\n",
       "      <th>1268237</th>\n",
       "      <td>0</td>\n",
       "      <td>4.377862</td>\n",
       "    </tr>\n",
       "    <tr>\n",
       "      <th>267281</th>\n",
       "      <td>35</td>\n",
       "      <td>29.960621</td>\n",
       "    </tr>\n",
       "    <tr>\n",
       "      <th>1184014</th>\n",
       "      <td>2</td>\n",
       "      <td>6.114200</td>\n",
       "    </tr>\n",
       "    <tr>\n",
       "      <th>760273</th>\n",
       "      <td>2</td>\n",
       "      <td>2.945682</td>\n",
       "    </tr>\n",
       "  </tbody>\n",
       "</table>\n",
       "</div>"
      ],
      "text/plain": [
       "         Actual  Predicted\n",
       "225531       12  11.939739\n",
       "1268237       0   4.377862\n",
       "267281       35  29.960621\n",
       "1184014       2   6.114200\n",
       "760273        2   2.945682"
      ]
     },
     "execution_count": 34,
     "metadata": {
      "tags": []
     },
     "output_type": "execute_result"
    }
   ],
   "source": [
    "df=pd.DataFrame({'Actual':y_test, 'Predicted':y_pred})  \n",
    "df.tail()"
   ]
  },
  {
   "cell_type": "markdown",
   "metadata": {
    "id": "i74BxKJXjP-o"
   },
   "source": [
    "#### Validierung"
   ]
  },
  {
   "cell_type": "code",
   "execution_count": null,
   "metadata": {
    "colab": {
     "base_uri": "https://localhost:8080/",
     "height": 544
    },
    "executionInfo": {
     "elapsed": 50071,
     "status": "ok",
     "timestamp": 1611344108617,
     "user": {
      "displayName": "Alexander Güntert",
      "photoUrl": "https://lh3.googleusercontent.com/a-/AOh14GjIDZOV3Kdu3TWlEjJZTL18T1k0eIq5QemDHh7vsA=s64",
      "userId": "02684316521139958264"
     },
     "user_tz": -60
    },
    "id": "mqh2k4igjP-o",
    "outputId": "39d2979f-e663-4398-c5ac-21f9500de318"
   },
   "outputs": [
    {
     "data": {
      "text/plain": [
       "(0.0, 240.0, -12.889564149606926, 210.13759829283842)"
      ]
     },
     "execution_count": 39,
     "metadata": {
      "tags": []
     },
     "output_type": "execute_result"
    },
    {
     "data": {
      "image/png": "[encoded data removed]",
      "text/plain": [
       "<Figure size 504x504 with 1 Axes>"
      ]
     },
     "metadata": {
      "needs_background": "light",
      "tags": []
     },
     "output_type": "display_data"
    }
   ],
   "source": [
    "# vorsicht: es wird nur ein Ausschnitt der Daten angezeigt\n",
    "sns.lmplot(x='Actual', y='Predicted', data=df,fit_reg=True,scatter_kws={\"color\":\"darkred\",\"alpha\":0.3,\"s\":3},height=7)\n",
    "# add y=x line\n",
    "plt.plot([0,200],[0,200], lw=2, color='#414242', linestyle='dashed') # ideallinie wo predicted = actual\n",
    "plt.axis('equal')\n"
   ]
  },
  {
   "cell_type": "code",
   "execution_count": null,
   "metadata": {
    "id": "LG942GKXjP-q"
   },
   "outputs": [],
   "source": [
    "#sns.jointplot(x='Actual', y='Predicted', kind=\"reg\", data=df)"
   ]
  },
  {
   "cell_type": "code",
   "execution_count": null,
   "metadata": {
    "colab": {
     "base_uri": "https://localhost:8080/"
    },
    "executionInfo": {
     "elapsed": 568,
     "status": "ok",
     "timestamp": 1611343987150,
     "user": {
      "displayName": "Alexander Güntert",
      "photoUrl": "https://lh3.googleusercontent.com/a-/AOh14GjIDZOV3Kdu3TWlEjJZTL18T1k0eIq5QemDHh7vsA=s64",
      "userId": "02684316521139958264"
     },
     "user_tz": -60
    },
    "id": "MNdGWxJ2jP-r",
    "outputId": "e35a1f4c-1b9b-4b43-a220-9fcbb66a482a"
   },
   "outputs": [
    {
     "name": "stdout",
     "output_type": "stream",
     "text": [
      "Mean Absolute Error: 4.651438025184883\n",
      "Mean Squared Error: 60.07953369908116\n",
      "Root Mean Squared Error: 7.7510988704235455\n",
      "R2 Score:  0.7212215256984164\n"
     ]
    }
   ],
   "source": [
    "print('Mean Absolute Error:', metrics.mean_absolute_error(y_test, y_pred))\n",
    "print('Mean Squared Error:', metrics.mean_squared_error(y_test, y_pred) )\n",
    "print('Root Mean Squared Error:', np.sqrt(metrics.mean_squared_error(y_test, y_pred)))\n",
    "print('R2 Score: ',metrics.r2_score(y_test, y_pred))"
   ]
  },
  {
   "cell_type": "code",
   "execution_count": null,
   "metadata": {
    "colab": {
     "base_uri": "https://localhost:8080/",
     "height": 295
    },
    "executionInfo": {
     "elapsed": 659,
     "status": "ok",
     "timestamp": 1611344159904,
     "user": {
      "displayName": "Alexander Güntert",
      "photoUrl": "https://lh3.googleusercontent.com/a-/AOh14GjIDZOV3Kdu3TWlEjJZTL18T1k0eIq5QemDHh7vsA=s64",
      "userId": "02684316521139958264"
     },
     "user_tz": -60
    },
    "id": "F4cLGNOqjP-t",
    "outputId": "9fd178df-e8b9-4eff-baec-974b8e483e97"
   },
   "outputs": [
    {
     "data": {
      "image/png": "[encoded data removed]",
      "text/plain": [
       "<Figure size 432x288 with 1 Axes>"
      ]
     },
     "metadata": {
      "needs_background": "light",
      "tags": []
     },
     "output_type": "display_data"
    }
   ],
   "source": [
    "ax = lgb.plot_importance(gbm,)\n",
    "plt.show()"
   ]
  },
  {
   "cell_type": "markdown",
   "metadata": {
    "id": "b72RFmmdgPol"
   },
   "source": [
    "# Log Transform"
   ]
  },
  {
   "cell_type": "code",
   "execution_count": null,
   "metadata": {
    "id": "axpkMkM4UX6l"
   },
   "outputs": [],
   "source": [
    "hb2['count_log'] = np.log(hb2['count']+1)"
   ]
  },
  {
   "cell_type": "code",
   "execution_count": null,
   "metadata": {
    "id": "g69GEHK9gWfR"
   },
   "outputs": [],
   "source": []
  },
  {
   "cell_type": "code",
   "execution_count": null,
   "metadata": {
    "id": "ds4EEQt-gwCR"
   },
   "outputs": [],
   "source": [
    "XList=[\n",
    "  'hour',\n",
    "  'weekday',\n",
    "  'minute',\n",
    "  'month',\n",
    "  'direction_cat',\n",
    "  'name_cat',\n",
    "]\n",
    "y='count_log'"
   ]
  },
  {
   "cell_type": "code",
   "execution_count": null,
   "metadata": {
    "id": "kXyz9rMKgwCU"
   },
   "outputs": [],
   "source": [
    "if True:\n",
    "  hb2X=hb2[XList]\n",
    "  hb2Y=hb2[y]\n",
    "  X_train, X_test, y_train, y_test = train_test_split(hb2X, hb2Y)  "
   ]
  },
  {
   "cell_type": "markdown",
   "metadata": {
    "id": "iPcCZbmNgwCW"
   },
   "source": [
    "## Decicion Tree"
   ]
  },
  {
   "cell_type": "code",
   "execution_count": null,
   "metadata": {
    "colab": {
     "base_uri": "https://localhost:8080/"
    },
    "executionInfo": {
     "elapsed": 123164,
     "status": "ok",
     "timestamp": 1611333287675,
     "user": {
      "displayName": "Alexander Güntert",
      "photoUrl": "https://lh3.googleusercontent.com/a-/AOh14GjIDZOV3Kdu3TWlEjJZTL18T1k0eIq5QemDHh7vsA=s64",
      "userId": "02684316521139958264"
     },
     "user_tz": -60
    },
    "id": "Bd5Bzx6_gwCX",
    "outputId": "9f1bea10-6d16-4d65-f555-96bf30b76db2"
   },
   "outputs": [
    {
     "data": {
      "text/plain": [
       "DecisionTreeRegressor(ccp_alpha=0.0, criterion='mse', max_depth=15,\n",
       "                      max_features=None, max_leaf_nodes=None,\n",
       "                      min_impurity_decrease=0.0, min_impurity_split=None,\n",
       "                      min_samples_leaf=1, min_samples_split=2,\n",
       "                      min_weight_fraction_leaf=0.0, presort='deprecated',\n",
       "                      random_state=None, splitter='best')"
      ]
     },
     "execution_count": 38,
     "metadata": {
      "tags": []
     },
     "output_type": "execute_result"
    }
   ],
   "source": [
    "regressor = DecisionTreeRegressor(max_depth=15)  \n",
    "regressor.fit(X_train, y_train)  "
   ]
  },
  {
   "cell_type": "code",
   "execution_count": null,
   "metadata": {
    "id": "hmYOP7i5gwCa"
   },
   "outputs": [],
   "source": [
    "y_pred = regressor.predict(X_test) "
   ]
  },
  {
   "cell_type": "code",
   "execution_count": null,
   "metadata": {
    "colab": {
     "base_uri": "https://localhost:8080/",
     "height": 677
    },
    "executionInfo": {
     "elapsed": 123162,
     "status": "ok",
     "timestamp": 1611333287687,
     "user": {
      "displayName": "Alexander Güntert",
      "photoUrl": "https://lh3.googleusercontent.com/a-/AOh14GjIDZOV3Kdu3TWlEjJZTL18T1k0eIq5QemDHh7vsA=s64",
      "userId": "02684316521139958264"
     },
     "user_tz": -60
    },
    "id": "SEhL5eDQgwCb",
    "outputId": "aa627a04-d580-4135-c878-d038c57b84bd"
   },
   "outputs": [
    {
     "data": {
      "text/html": [
       "<div>\n",
       "<style scoped>\n",
       "    .dataframe tbody tr th:only-of-type {\n",
       "        vertical-align: middle;\n",
       "    }\n",
       "\n",
       "    .dataframe tbody tr th {\n",
       "        vertical-align: top;\n",
       "    }\n",
       "\n",
       "    .dataframe thead th {\n",
       "        text-align: right;\n",
       "    }\n",
       "</style>\n",
       "<table border=\"1\" class=\"dataframe\">\n",
       "  <thead>\n",
       "    <tr style=\"text-align: right;\">\n",
       "      <th></th>\n",
       "      <th>Actual</th>\n",
       "      <th>Predicted</th>\n",
       "    </tr>\n",
       "  </thead>\n",
       "  <tbody>\n",
       "    <tr>\n",
       "      <th>220845</th>\n",
       "      <td>13.0</td>\n",
       "      <td>10.478126</td>\n",
       "    </tr>\n",
       "    <tr>\n",
       "      <th>116990</th>\n",
       "      <td>2.0</td>\n",
       "      <td>3.278223</td>\n",
       "    </tr>\n",
       "    <tr>\n",
       "      <th>992814</th>\n",
       "      <td>25.0</td>\n",
       "      <td>24.705665</td>\n",
       "    </tr>\n",
       "    <tr>\n",
       "      <th>1062867</th>\n",
       "      <td>2.0</td>\n",
       "      <td>1.715174</td>\n",
       "    </tr>\n",
       "    <tr>\n",
       "      <th>1176740</th>\n",
       "      <td>1.0</td>\n",
       "      <td>0.404470</td>\n",
       "    </tr>\n",
       "    <tr>\n",
       "      <th>723486</th>\n",
       "      <td>17.0</td>\n",
       "      <td>22.010064</td>\n",
       "    </tr>\n",
       "    <tr>\n",
       "      <th>290480</th>\n",
       "      <td>35.0</td>\n",
       "      <td>27.617288</td>\n",
       "    </tr>\n",
       "    <tr>\n",
       "      <th>806006</th>\n",
       "      <td>10.0</td>\n",
       "      <td>7.813056</td>\n",
       "    </tr>\n",
       "    <tr>\n",
       "      <th>901952</th>\n",
       "      <td>28.0</td>\n",
       "      <td>41.610854</td>\n",
       "    </tr>\n",
       "    <tr>\n",
       "      <th>384508</th>\n",
       "      <td>19.0</td>\n",
       "      <td>11.701323</td>\n",
       "    </tr>\n",
       "    <tr>\n",
       "      <th>990180</th>\n",
       "      <td>22.0</td>\n",
       "      <td>17.324598</td>\n",
       "    </tr>\n",
       "    <tr>\n",
       "      <th>1407830</th>\n",
       "      <td>0.0</td>\n",
       "      <td>0.678339</td>\n",
       "    </tr>\n",
       "    <tr>\n",
       "      <th>856242</th>\n",
       "      <td>8.0</td>\n",
       "      <td>8.187936</td>\n",
       "    </tr>\n",
       "    <tr>\n",
       "      <th>94065</th>\n",
       "      <td>20.0</td>\n",
       "      <td>17.417852</td>\n",
       "    </tr>\n",
       "    <tr>\n",
       "      <th>1058265</th>\n",
       "      <td>25.0</td>\n",
       "      <td>28.544314</td>\n",
       "    </tr>\n",
       "    <tr>\n",
       "      <th>907568</th>\n",
       "      <td>57.0</td>\n",
       "      <td>52.710325</td>\n",
       "    </tr>\n",
       "    <tr>\n",
       "      <th>599979</th>\n",
       "      <td>0.0</td>\n",
       "      <td>4.820795</td>\n",
       "    </tr>\n",
       "    <tr>\n",
       "      <th>574623</th>\n",
       "      <td>15.0</td>\n",
       "      <td>11.715937</td>\n",
       "    </tr>\n",
       "    <tr>\n",
       "      <th>651853</th>\n",
       "      <td>16.0</td>\n",
       "      <td>9.790686</td>\n",
       "    </tr>\n",
       "    <tr>\n",
       "      <th>1171074</th>\n",
       "      <td>1.0</td>\n",
       "      <td>0.634653</td>\n",
       "    </tr>\n",
       "  </tbody>\n",
       "</table>\n",
       "</div>"
      ],
      "text/plain": [
       "         Actual  Predicted\n",
       "220845     13.0  10.478126\n",
       "116990      2.0   3.278223\n",
       "992814     25.0  24.705665\n",
       "1062867     2.0   1.715174\n",
       "1176740     1.0   0.404470\n",
       "723486     17.0  22.010064\n",
       "290480     35.0  27.617288\n",
       "806006     10.0   7.813056\n",
       "901952     28.0  41.610854\n",
       "384508     19.0  11.701323\n",
       "990180     22.0  17.324598\n",
       "1407830     0.0   0.678339\n",
       "856242      8.0   8.187936\n",
       "94065      20.0  17.417852\n",
       "1058265    25.0  28.544314\n",
       "907568     57.0  52.710325\n",
       "599979      0.0   4.820795\n",
       "574623     15.0  11.715937\n",
       "651853     16.0   9.790686\n",
       "1171074     1.0   0.634653"
      ]
     },
     "execution_count": 40,
     "metadata": {
      "tags": []
     },
     "output_type": "execute_result"
    }
   ],
   "source": [
    "df=pd.DataFrame({'Actual':np.exp(y_test)-1, 'Predicted':np.exp(y_pred)-1})  \n",
    "df.head(20)"
   ]
  },
  {
   "cell_type": "code",
   "execution_count": null,
   "metadata": {
    "colab": {
     "base_uri": "https://localhost:8080/"
    },
    "executionInfo": {
     "elapsed": 123158,
     "status": "ok",
     "timestamp": 1611333287691,
     "user": {
      "displayName": "Alexander Güntert",
      "photoUrl": "https://lh3.googleusercontent.com/a-/AOh14GjIDZOV3Kdu3TWlEjJZTL18T1k0eIq5QemDHh7vsA=s64",
      "userId": "02684316521139958264"
     },
     "user_tz": -60
    },
    "id": "Ngr3ZgW4gwCb",
    "outputId": "442b8259-7e79-4aed-fafa-f66b296f5942"
   },
   "outputs": [
    {
     "name": "stdout",
     "output_type": "stream",
     "text": [
      "Mean Absolute Error: 0.43173281651268436\n",
      "Mean Squared Error: 0.3154181389753173\n",
      "Root Mean Squared Error: 0.5616209922851151\n"
     ]
    }
   ],
   "source": [
    "print('Mean Absolute Error:', metrics.mean_absolute_error(y_test, y_pred))\n",
    "print('Mean Squared Error:', metrics.mean_squared_error(y_test, y_pred))\n",
    "print('Root Mean Squared Error:', np.sqrt(metrics.mean_squared_error(y_test, y_pred)))\n",
    "#print 'R2 Score: ',metrics.r2_score(y_test, y_pred)"
   ]
  },
  {
   "cell_type": "code",
   "execution_count": null,
   "metadata": {
    "colab": {
     "base_uri": "https://localhost:8080/"
    },
    "executionInfo": {
     "elapsed": 123154,
     "status": "ok",
     "timestamp": 1611333287694,
     "user": {
      "displayName": "Alexander Güntert",
      "photoUrl": "https://lh3.googleusercontent.com/a-/AOh14GjIDZOV3Kdu3TWlEjJZTL18T1k0eIq5QemDHh7vsA=s64",
      "userId": "02684316521139958264"
     },
     "user_tz": -60
    },
    "id": "vGFQslgogwCd",
    "outputId": "830f885d-3293-4ec8-c33f-f697d08c521a"
   },
   "outputs": [
    {
     "name": "stdout",
     "output_type": "stream",
     "text": [
      "Mean Absolute Error: 4.453969252728549\n",
      "Mean Squared Error: 63.28957357746446\n",
      "Root Mean Squared Error: 7.9554744407523845\n"
     ]
    }
   ],
   "source": [
    "print('Mean Absolute Error:', metrics.mean_absolute_error(np.exp(y_test)-1, np.exp(y_pred)-1))\n",
    "print('Mean Squared Error:', metrics.mean_squared_error(np.exp(y_test)-1, np.exp(y_pred)-1))\n",
    "print('Root Mean Squared Error:', np.sqrt(metrics.mean_squared_error(np.exp(y_test)-1, np.exp(y_pred)-1)))\n",
    "#print 'R2 Score: ',metrics.r2_score(y_test, y_pred)"
   ]
  },
  {
   "cell_type": "code",
   "execution_count": null,
   "metadata": {
    "id": "R92XnAeGgwCf"
   },
   "outputs": [],
   "source": []
  },
  {
   "cell_type": "markdown",
   "metadata": {
    "id": "1uLB7kVZgwCg"
   },
   "source": [
    "## Radom Forest"
   ]
  },
  {
   "cell_type": "code",
   "execution_count": null,
   "metadata": {
    "colab": {
     "base_uri": "https://localhost:8080/"
    },
    "executionInfo": {
     "elapsed": 188584,
     "status": "ok",
     "timestamp": 1611333353136,
     "user": {
      "displayName": "Alexander Güntert",
      "photoUrl": "https://lh3.googleusercontent.com/a-/AOh14GjIDZOV3Kdu3TWlEjJZTL18T1k0eIq5QemDHh7vsA=s64",
      "userId": "02684316521139958264"
     },
     "user_tz": -60
    },
    "id": "LcMmPaBhgwCg",
    "outputId": "3944ab10-3545-4483-ec93-711e3344c3e4"
   },
   "outputs": [
    {
     "data": {
      "text/plain": [
       "RandomForestRegressor(bootstrap=True, ccp_alpha=0.0, criterion='mse',\n",
       "                      max_depth=20, max_features='auto', max_leaf_nodes=None,\n",
       "                      max_samples=None, min_impurity_decrease=0.0,\n",
       "                      min_impurity_split=None, min_samples_leaf=1,\n",
       "                      min_samples_split=2, min_weight_fraction_leaf=0.0,\n",
       "                      n_estimators=30, n_jobs=-1, oob_score=False,\n",
       "                      random_state=None, verbose=0, warm_start=False)"
      ]
     },
     "execution_count": 43,
     "metadata": {
      "tags": []
     },
     "output_type": "execute_result"
    }
   ],
   "source": [
    "regressor = RandomForestRegressor(n_estimators=30,n_jobs=-1,max_depth=20) \n",
    "regressor.fit(X_train, y_train)  "
   ]
  },
  {
   "cell_type": "code",
   "execution_count": null,
   "metadata": {
    "colab": {
     "base_uri": "https://localhost:8080/"
    },
    "executionInfo": {
     "elapsed": 188582,
     "status": "ok",
     "timestamp": 1611333353142,
     "user": {
      "displayName": "Alexander Güntert",
      "photoUrl": "https://lh3.googleusercontent.com/a-/AOh14GjIDZOV3Kdu3TWlEjJZTL18T1k0eIq5QemDHh7vsA=s64",
      "userId": "02684316521139958264"
     },
     "user_tz": -60
    },
    "id": "HPnd_eH6gwCh",
    "outputId": "26d8213e-2734-4d74-80ac-b2cfb53033f8"
   },
   "outputs": [
    {
     "name": "stdout",
     "output_type": "stream",
     "text": [
      "Mean Absolute Error: 0.43173281651268436\n",
      "Mean Squared Error: 0.3154181389753173\n",
      "Root Mean Squared Error: 0.5616209922851151\n"
     ]
    }
   ],
   "source": [
    "print('Mean Absolute Error:', metrics.mean_absolute_error(y_test, y_pred))\n",
    "print('Mean Squared Error:', metrics.mean_squared_error(y_test, y_pred))\n",
    "print('Root Mean Squared Error:', np.sqrt(metrics.mean_squared_error(y_test, y_pred)))\n",
    "#print 'R2 Score: ',metrics.r2_score(y_test, y_pred)\n"
   ]
  },
  {
   "cell_type": "code",
   "execution_count": null,
   "metadata": {
    "id": "AJXIqwWgj1YS"
   },
   "outputs": [],
   "source": []
  },
  {
   "cell_type": "markdown",
   "metadata": {
    "id": "JyQ2fYWLgwCi"
   },
   "source": [
    "## Linear Regression"
   ]
  },
  {
   "cell_type": "code",
   "execution_count": null,
   "metadata": {
    "colab": {
     "base_uri": "https://localhost:8080/"
    },
    "executionInfo": {
     "elapsed": 188577,
     "status": "ok",
     "timestamp": 1611333353145,
     "user": {
      "displayName": "Alexander Güntert",
      "photoUrl": "https://lh3.googleusercontent.com/a-/AOh14GjIDZOV3Kdu3TWlEjJZTL18T1k0eIq5QemDHh7vsA=s64",
      "userId": "02684316521139958264"
     },
     "user_tz": -60
    },
    "id": "INMmT9jwgwCj",
    "outputId": "0984eaa7-cf81-44aa-ea28-d1d29274d74d"
   },
   "outputs": [
    {
     "data": {
      "text/plain": [
       "LinearRegression(copy_X=True, fit_intercept=True, n_jobs=None, normalize=False)"
      ]
     },
     "execution_count": 45,
     "metadata": {
      "tags": []
     },
     "output_type": "execute_result"
    }
   ],
   "source": [
    "regressor = LinearRegression()\n",
    "regressor.fit(X_train, y_train)  "
   ]
  },
  {
   "cell_type": "code",
   "execution_count": null,
   "metadata": {
    "colab": {
     "base_uri": "https://localhost:8080/"
    },
    "executionInfo": {
     "elapsed": 188572,
     "status": "ok",
     "timestamp": 1611333353148,
     "user": {
      "displayName": "Alexander Güntert",
      "photoUrl": "https://lh3.googleusercontent.com/a-/AOh14GjIDZOV3Kdu3TWlEjJZTL18T1k0eIq5QemDHh7vsA=s64",
      "userId": "02684316521139958264"
     },
     "user_tz": -60
    },
    "id": "96ey7ApLgwCk",
    "outputId": "f5c91062-4e09-4f2a-a742-427e154aeb68"
   },
   "outputs": [
    {
     "name": "stdout",
     "output_type": "stream",
     "text": [
      "Mean Absolute Error: 0.43173281651268436\n",
      "Mean Squared Error: 0.3154181389753173\n",
      "Root Mean Squared Error: 0.5616209922851151\n"
     ]
    }
   ],
   "source": [
    "print('Mean Absolute Error:', metrics.mean_absolute_error(y_test, y_pred))\n",
    "print('Mean Squared Error:', metrics.mean_squared_error(y_test, y_pred))\n",
    "print('Root Mean Squared Error:', np.sqrt(metrics.mean_squared_error(y_test, y_pred)))\n",
    "#print 'R2 Score: ',metrics.r2_score(y_test, y_pred)"
   ]
  },
  {
   "cell_type": "code",
   "execution_count": null,
   "metadata": {
    "colab": {
     "base_uri": "https://localhost:8080/"
    },
    "executionInfo": {
     "elapsed": 188563,
     "status": "ok",
     "timestamp": 1611333353150,
     "user": {
      "displayName": "Alexander Güntert",
      "photoUrl": "https://lh3.googleusercontent.com/a-/AOh14GjIDZOV3Kdu3TWlEjJZTL18T1k0eIq5QemDHh7vsA=s64",
      "userId": "02684316521139958264"
     },
     "user_tz": -60
    },
    "id": "vulXiguvgwCl",
    "outputId": "ad8f8e2f-72e2-4a62-c165-4a242a745c34"
   },
   "outputs": [
    {
     "name": "stdout",
     "output_type": "stream",
     "text": [
      "Mean Absolute Error: 4.453969252728549\n",
      "Mean Squared Error: 63.28957357746446\n",
      "Root Mean Squared Error: 7.9554744407523845\n"
     ]
    }
   ],
   "source": [
    "print('Mean Absolute Error:', metrics.mean_absolute_error(np.exp(y_test)-1, np.exp(y_pred)-1))\n",
    "print('Mean Squared Error:', metrics.mean_squared_error(np.exp(y_test)-1, np.exp(y_pred)-1))\n",
    "print('Root Mean Squared Error:', np.sqrt(metrics.mean_squared_error(np.exp(y_test)-1, np.exp(y_pred)-1)))\n",
    "#print 'R2 Score: ',metrics.r2_score(y_test, y_pred)"
   ]
  },
  {
   "cell_type": "markdown",
   "metadata": {
    "id": "8guNMZc3hIQy"
   },
   "source": [
    "# Try Dummies"
   ]
  },
  {
   "cell_type": "code",
   "execution_count": null,
   "metadata": {
    "id": "h0Q7NDykT7MY"
   },
   "outputs": [],
   "source": [
    "dummies = pd.get_dummies(hb2['Name'])\n",
    "dummy_cols = dummies.columns"
   ]
  },
  {
   "cell_type": "code",
   "execution_count": null,
   "metadata": {
    "colab": {
     "base_uri": "https://localhost:8080/",
     "height": 435
    },
    "executionInfo": {
     "elapsed": 848,
     "status": "ok",
     "timestamp": 1611333592170,
     "user": {
      "displayName": "Alexander Güntert",
      "photoUrl": "https://lh3.googleusercontent.com/a-/AOh14GjIDZOV3Kdu3TWlEjJZTL18T1k0eIq5QemDHh7vsA=s64",
      "userId": "02684316521139958264"
     },
     "user_tz": -60
    },
    "id": "T58bSfdd9N6g",
    "outputId": "752a9cb2-cc83-473e-d2f1-93c702598ef8"
   },
   "outputs": [
    {
     "data": {
      "text/html": [
       "<div>\n",
       "<style scoped>\n",
       "    .dataframe tbody tr th:only-of-type {\n",
       "        vertical-align: middle;\n",
       "    }\n",
       "\n",
       "    .dataframe tbody tr th {\n",
       "        vertical-align: top;\n",
       "    }\n",
       "\n",
       "    .dataframe thead th {\n",
       "        text-align: right;\n",
       "    }\n",
       "</style>\n",
       "<table border=\"1\" class=\"dataframe\">\n",
       "  <thead>\n",
       "    <tr style=\"text-align: right;\">\n",
       "      <th></th>\n",
       "      <th>Timestamp</th>\n",
       "      <th>Name</th>\n",
       "      <th>direction</th>\n",
       "      <th>count</th>\n",
       "      <th>hour</th>\n",
       "      <th>weekday</th>\n",
       "      <th>minute</th>\n",
       "      <th>month</th>\n",
       "      <th>direction_cat</th>\n",
       "      <th>name_cat</th>\n",
       "      <th>count_log</th>\n",
       "      <th>Ost-Nord total</th>\n",
       "      <th>Ost-SBB total</th>\n",
       "      <th>Ost-Süd total</th>\n",
       "      <th>Ost-VBZ Total</th>\n",
       "      <th>West-Nord total</th>\n",
       "      <th>West-SBB total</th>\n",
       "      <th>West-Süd total</th>\n",
       "      <th>West-VBZ total</th>\n",
       "    </tr>\n",
       "  </thead>\n",
       "  <tbody>\n",
       "    <tr>\n",
       "      <th>0</th>\n",
       "      <td>2020-01-01 23:55:00</td>\n",
       "      <td>Ost-Nord total</td>\n",
       "      <td>In</td>\n",
       "      <td>1</td>\n",
       "      <td>23</td>\n",
       "      <td>2</td>\n",
       "      <td>55</td>\n",
       "      <td>1</td>\n",
       "      <td>0</td>\n",
       "      <td>1</td>\n",
       "      <td>0.693147</td>\n",
       "      <td>1</td>\n",
       "      <td>0</td>\n",
       "      <td>0</td>\n",
       "      <td>0</td>\n",
       "      <td>0</td>\n",
       "      <td>0</td>\n",
       "      <td>0</td>\n",
       "      <td>0</td>\n",
       "    </tr>\n",
       "    <tr>\n",
       "      <th>1</th>\n",
       "      <td>2020-01-01 23:55:00</td>\n",
       "      <td>Ost-Nord total</td>\n",
       "      <td>Out</td>\n",
       "      <td>0</td>\n",
       "      <td>23</td>\n",
       "      <td>2</td>\n",
       "      <td>55</td>\n",
       "      <td>1</td>\n",
       "      <td>1</td>\n",
       "      <td>1</td>\n",
       "      <td>0.000000</td>\n",
       "      <td>1</td>\n",
       "      <td>0</td>\n",
       "      <td>0</td>\n",
       "      <td>0</td>\n",
       "      <td>0</td>\n",
       "      <td>0</td>\n",
       "      <td>0</td>\n",
       "      <td>0</td>\n",
       "    </tr>\n",
       "    <tr>\n",
       "      <th>2</th>\n",
       "      <td>2020-01-01 23:50:00</td>\n",
       "      <td>Ost-Nord total</td>\n",
       "      <td>In</td>\n",
       "      <td>2</td>\n",
       "      <td>23</td>\n",
       "      <td>2</td>\n",
       "      <td>50</td>\n",
       "      <td>1</td>\n",
       "      <td>0</td>\n",
       "      <td>1</td>\n",
       "      <td>1.098612</td>\n",
       "      <td>1</td>\n",
       "      <td>0</td>\n",
       "      <td>0</td>\n",
       "      <td>0</td>\n",
       "      <td>0</td>\n",
       "      <td>0</td>\n",
       "      <td>0</td>\n",
       "      <td>0</td>\n",
       "    </tr>\n",
       "    <tr>\n",
       "      <th>3</th>\n",
       "      <td>2020-01-01 23:50:00</td>\n",
       "      <td>Ost-Nord total</td>\n",
       "      <td>Out</td>\n",
       "      <td>5</td>\n",
       "      <td>23</td>\n",
       "      <td>2</td>\n",
       "      <td>50</td>\n",
       "      <td>1</td>\n",
       "      <td>1</td>\n",
       "      <td>1</td>\n",
       "      <td>1.791759</td>\n",
       "      <td>1</td>\n",
       "      <td>0</td>\n",
       "      <td>0</td>\n",
       "      <td>0</td>\n",
       "      <td>0</td>\n",
       "      <td>0</td>\n",
       "      <td>0</td>\n",
       "      <td>0</td>\n",
       "    </tr>\n",
       "    <tr>\n",
       "      <th>4</th>\n",
       "      <td>2020-01-01 23:45:00</td>\n",
       "      <td>Ost-Nord total</td>\n",
       "      <td>In</td>\n",
       "      <td>1</td>\n",
       "      <td>23</td>\n",
       "      <td>2</td>\n",
       "      <td>45</td>\n",
       "      <td>1</td>\n",
       "      <td>0</td>\n",
       "      <td>1</td>\n",
       "      <td>0.693147</td>\n",
       "      <td>1</td>\n",
       "      <td>0</td>\n",
       "      <td>0</td>\n",
       "      <td>0</td>\n",
       "      <td>0</td>\n",
       "      <td>0</td>\n",
       "      <td>0</td>\n",
       "      <td>0</td>\n",
       "    </tr>\n",
       "  </tbody>\n",
       "</table>\n",
       "</div>"
      ],
      "text/plain": [
       "            Timestamp            Name  ... West-Süd total  West-VBZ total\n",
       "0 2020-01-01 23:55:00  Ost-Nord total  ...              0               0\n",
       "1 2020-01-01 23:55:00  Ost-Nord total  ...              0               0\n",
       "2 2020-01-01 23:50:00  Ost-Nord total  ...              0               0\n",
       "3 2020-01-01 23:50:00  Ost-Nord total  ...              0               0\n",
       "4 2020-01-01 23:45:00  Ost-Nord total  ...              0               0\n",
       "\n",
       "[5 rows x 19 columns]"
      ]
     },
     "execution_count": 55,
     "metadata": {
      "tags": []
     },
     "output_type": "execute_result"
    }
   ],
   "source": [
    "hb2 = pd.concat([hb2,dummies],axis=1)\n",
    "hb2.head()"
   ]
  },
  {
   "cell_type": "code",
   "execution_count": null,
   "metadata": {
    "id": "S3kZEcHv9-h5"
   },
   "outputs": [],
   "source": [
    "XList=[\n",
    "  'hour',\n",
    "  'weekday',\n",
    "  'minute',\n",
    "  'month',\n",
    "  'direction_cat',\n",
    "  #'name_cat',\n",
    "] + dummy_cols.to_list()\n",
    "y='count'"
   ]
  },
  {
   "cell_type": "code",
   "execution_count": null,
   "metadata": {
    "id": "z_DAhfBo9-h7"
   },
   "outputs": [],
   "source": [
    "if True:\n",
    "  hb2X=hb2[XList]\n",
    "  hb2Y=hb2[y]\n",
    "  X_train, X_test, y_train, y_test = train_test_split(hb2X, hb2Y)  "
   ]
  },
  {
   "cell_type": "markdown",
   "metadata": {
    "id": "ljXBB-de-1qO"
   },
   "source": [
    "## Decision Tree"
   ]
  },
  {
   "cell_type": "code",
   "execution_count": null,
   "metadata": {
    "colab": {
     "base_uri": "https://localhost:8080/"
    },
    "executionInfo": {
     "elapsed": 7200,
     "status": "ok",
     "timestamp": 1611333871792,
     "user": {
      "displayName": "Alexander Güntert",
      "photoUrl": "https://lh3.googleusercontent.com/a-/AOh14GjIDZOV3Kdu3TWlEjJZTL18T1k0eIq5QemDHh7vsA=s64",
      "userId": "02684316521139958264"
     },
     "user_tz": -60
    },
    "id": "lHzHtCt4-wyk",
    "outputId": "caf81ee4-7bd1-44fd-9dce-80b3b2f0c520"
   },
   "outputs": [
    {
     "data": {
      "text/plain": [
       "DecisionTreeRegressor(ccp_alpha=0.0, criterion='mse', max_depth=15,\n",
       "                      max_features=None, max_leaf_nodes=None,\n",
       "                      min_impurity_decrease=0.0, min_impurity_split=None,\n",
       "                      min_samples_leaf=1, min_samples_split=2,\n",
       "                      min_weight_fraction_leaf=0.0, presort='deprecated',\n",
       "                      random_state=None, splitter='best')"
      ]
     },
     "execution_count": 69,
     "metadata": {
      "tags": []
     },
     "output_type": "execute_result"
    }
   ],
   "source": [
    "regressor = DecisionTreeRegressor(max_depth=15)  \n",
    "regressor.fit(X_train, y_train)  "
   ]
  },
  {
   "cell_type": "code",
   "execution_count": null,
   "metadata": {
    "id": "mJtYbvoH-wyo"
   },
   "outputs": [],
   "source": [
    "y_pred = regressor.predict(X_test) "
   ]
  },
  {
   "cell_type": "code",
   "execution_count": null,
   "metadata": {
    "colab": {
     "base_uri": "https://localhost:8080/",
     "height": 677
    },
    "executionInfo": {
     "elapsed": 949,
     "status": "ok",
     "timestamp": 1611333889322,
     "user": {
      "displayName": "Alexander Güntert",
      "photoUrl": "https://lh3.googleusercontent.com/a-/AOh14GjIDZOV3Kdu3TWlEjJZTL18T1k0eIq5QemDHh7vsA=s64",
      "userId": "02684316521139958264"
     },
     "user_tz": -60
    },
    "id": "EYtWGLu4-wyq",
    "outputId": "85ea9614-70c7-424f-b393-586c5e751ce3"
   },
   "outputs": [
    {
     "data": {
      "text/html": [
       "<div>\n",
       "<style scoped>\n",
       "    .dataframe tbody tr th:only-of-type {\n",
       "        vertical-align: middle;\n",
       "    }\n",
       "\n",
       "    .dataframe tbody tr th {\n",
       "        vertical-align: top;\n",
       "    }\n",
       "\n",
       "    .dataframe thead th {\n",
       "        text-align: right;\n",
       "    }\n",
       "</style>\n",
       "<table border=\"1\" class=\"dataframe\">\n",
       "  <thead>\n",
       "    <tr style=\"text-align: right;\">\n",
       "      <th></th>\n",
       "      <th>Actual</th>\n",
       "      <th>Predicted</th>\n",
       "    </tr>\n",
       "  </thead>\n",
       "  <tbody>\n",
       "    <tr>\n",
       "      <th>3242</th>\n",
       "      <td>16</td>\n",
       "      <td>12.859604</td>\n",
       "    </tr>\n",
       "    <tr>\n",
       "      <th>30709</th>\n",
       "      <td>20</td>\n",
       "      <td>14.608475</td>\n",
       "    </tr>\n",
       "    <tr>\n",
       "      <th>978722</th>\n",
       "      <td>33</td>\n",
       "      <td>26.896552</td>\n",
       "    </tr>\n",
       "    <tr>\n",
       "      <th>294199</th>\n",
       "      <td>7</td>\n",
       "      <td>7.666667</td>\n",
       "    </tr>\n",
       "    <tr>\n",
       "      <th>1286101</th>\n",
       "      <td>6</td>\n",
       "      <td>18.000000</td>\n",
       "    </tr>\n",
       "    <tr>\n",
       "      <th>765296</th>\n",
       "      <td>2</td>\n",
       "      <td>2.138047</td>\n",
       "    </tr>\n",
       "    <tr>\n",
       "      <th>48801</th>\n",
       "      <td>14</td>\n",
       "      <td>13.918539</td>\n",
       "    </tr>\n",
       "    <tr>\n",
       "      <th>657163</th>\n",
       "      <td>11</td>\n",
       "      <td>22.545455</td>\n",
       "    </tr>\n",
       "    <tr>\n",
       "      <th>537019</th>\n",
       "      <td>1</td>\n",
       "      <td>4.806841</td>\n",
       "    </tr>\n",
       "    <tr>\n",
       "      <th>379730</th>\n",
       "      <td>6</td>\n",
       "      <td>5.604502</td>\n",
       "    </tr>\n",
       "    <tr>\n",
       "      <th>320065</th>\n",
       "      <td>31</td>\n",
       "      <td>28.312000</td>\n",
       "    </tr>\n",
       "    <tr>\n",
       "      <th>442308</th>\n",
       "      <td>16</td>\n",
       "      <td>9.699449</td>\n",
       "    </tr>\n",
       "    <tr>\n",
       "      <th>861355</th>\n",
       "      <td>0</td>\n",
       "      <td>0.392857</td>\n",
       "    </tr>\n",
       "    <tr>\n",
       "      <th>383118</th>\n",
       "      <td>1</td>\n",
       "      <td>4.362069</td>\n",
       "    </tr>\n",
       "    <tr>\n",
       "      <th>260407</th>\n",
       "      <td>6</td>\n",
       "      <td>7.250000</td>\n",
       "    </tr>\n",
       "    <tr>\n",
       "      <th>401488</th>\n",
       "      <td>6</td>\n",
       "      <td>3.830233</td>\n",
       "    </tr>\n",
       "    <tr>\n",
       "      <th>726044</th>\n",
       "      <td>5</td>\n",
       "      <td>28.917031</td>\n",
       "    </tr>\n",
       "    <tr>\n",
       "      <th>1310361</th>\n",
       "      <td>5</td>\n",
       "      <td>3.436782</td>\n",
       "    </tr>\n",
       "    <tr>\n",
       "      <th>1216500</th>\n",
       "      <td>3</td>\n",
       "      <td>3.041308</td>\n",
       "    </tr>\n",
       "    <tr>\n",
       "      <th>1019996</th>\n",
       "      <td>33</td>\n",
       "      <td>30.170282</td>\n",
       "    </tr>\n",
       "  </tbody>\n",
       "</table>\n",
       "</div>"
      ],
      "text/plain": [
       "         Actual  Predicted\n",
       "3242         16  12.859604\n",
       "30709        20  14.608475\n",
       "978722       33  26.896552\n",
       "294199        7   7.666667\n",
       "1286101       6  18.000000\n",
       "765296        2   2.138047\n",
       "48801        14  13.918539\n",
       "657163       11  22.545455\n",
       "537019        1   4.806841\n",
       "379730        6   5.604502\n",
       "320065       31  28.312000\n",
       "442308       16   9.699449\n",
       "861355        0   0.392857\n",
       "383118        1   4.362069\n",
       "260407        6   7.250000\n",
       "401488        6   3.830233\n",
       "726044        5  28.917031\n",
       "1310361       5   3.436782\n",
       "1216500       3   3.041308\n",
       "1019996      33  30.170282"
      ]
     },
     "execution_count": 73,
     "metadata": {
      "tags": []
     },
     "output_type": "execute_result"
    }
   ],
   "source": [
    "df=pd.DataFrame({'Actual':y_test, 'Predicted':y_pred})  \n",
    "df.head(20)"
   ]
  },
  {
   "cell_type": "code",
   "execution_count": null,
   "metadata": {
    "colab": {
     "base_uri": "https://localhost:8080/"
    },
    "executionInfo": {
     "elapsed": 3153,
     "status": "ok",
     "timestamp": 1611333871801,
     "user": {
      "displayName": "Alexander Güntert",
      "photoUrl": "https://lh3.googleusercontent.com/a-/AOh14GjIDZOV3Kdu3TWlEjJZTL18T1k0eIq5QemDHh7vsA=s64",
      "userId": "02684316521139958264"
     },
     "user_tz": -60
    },
    "id": "zJQI-XVG-wys",
    "outputId": "f615531c-fcd7-447b-c9ea-52a8ae8cd039"
   },
   "outputs": [
    {
     "name": "stdout",
     "output_type": "stream",
     "text": [
      "Mean Absolute Error: 4.506440658037878\n",
      "Mean Squared Error: 58.11544660857731\n",
      "Root Mean Squared Error: 7.623348779150624\n"
     ]
    }
   ],
   "source": [
    "print('Mean Absolute Error:', metrics.mean_absolute_error(y_test, y_pred))\n",
    "print('Mean Squared Error:', metrics.mean_squared_error(y_test, y_pred))\n",
    "print('Root Mean Squared Error:', np.sqrt(metrics.mean_squared_error(y_test, y_pred)))\n",
    "#print 'R2 Score: ',metrics.r2_score(y_test, y_pred)"
   ]
  },
  {
   "cell_type": "markdown",
   "metadata": {
    "id": "EzJNzxuI_Ihd"
   },
   "source": [
    "## Radom Forest"
   ]
  },
  {
   "cell_type": "code",
   "execution_count": null,
   "metadata": {
    "colab": {
     "base_uri": "https://localhost:8080/"
    },
    "executionInfo": {
     "elapsed": 81683,
     "status": "ok",
     "timestamp": 1611334017017,
     "user": {
      "displayName": "Alexander Güntert",
      "photoUrl": "https://lh3.googleusercontent.com/a-/AOh14GjIDZOV3Kdu3TWlEjJZTL18T1k0eIq5QemDHh7vsA=s64",
      "userId": "02684316521139958264"
     },
     "user_tz": -60
    },
    "id": "OCb-M2EF_Ihg",
    "outputId": "58a1c5de-0d73-43d7-a06e-356e74a15f4a"
   },
   "outputs": [
    {
     "data": {
      "text/plain": [
       "RandomForestRegressor(bootstrap=True, ccp_alpha=0.0, criterion='mse',\n",
       "                      max_depth=20, max_features='auto', max_leaf_nodes=None,\n",
       "                      max_samples=None, min_impurity_decrease=0.0,\n",
       "                      min_impurity_split=None, min_samples_leaf=1,\n",
       "                      min_samples_split=2, min_weight_fraction_leaf=0.0,\n",
       "                      n_estimators=30, n_jobs=-1, oob_score=False,\n",
       "                      random_state=None, verbose=0, warm_start=False)"
      ]
     },
     "execution_count": 74,
     "metadata": {
      "tags": []
     },
     "output_type": "execute_result"
    }
   ],
   "source": [
    "regressor = RandomForestRegressor(n_estimators=30,n_jobs=-1,max_depth=20) \n",
    "regressor.fit(X_train, y_train)  "
   ]
  },
  {
   "cell_type": "code",
   "execution_count": null,
   "metadata": {
    "colab": {
     "base_uri": "https://localhost:8080/"
    },
    "executionInfo": {
     "elapsed": 81376,
     "status": "ok",
     "timestamp": 1611334017021,
     "user": {
      "displayName": "Alexander Güntert",
      "photoUrl": "https://lh3.googleusercontent.com/a-/AOh14GjIDZOV3Kdu3TWlEjJZTL18T1k0eIq5QemDHh7vsA=s64",
      "userId": "02684316521139958264"
     },
     "user_tz": -60
    },
    "id": "UR8tG1vZ_Ihk",
    "outputId": "9756a30b-d0d9-4aae-a61a-7fe3704288a4"
   },
   "outputs": [
    {
     "name": "stdout",
     "output_type": "stream",
     "text": [
      "Mean Absolute Error: 4.506440658037878\n",
      "Mean Squared Error: 58.11544660857731\n",
      "Root Mean Squared Error: 7.623348779150624\n"
     ]
    }
   ],
   "source": [
    "print('Mean Absolute Error:', metrics.mean_absolute_error(y_test, y_pred))\n",
    "print('Mean Squared Error:', metrics.mean_squared_error(y_test, y_pred))\n",
    "print('Root Mean Squared Error:', np.sqrt(metrics.mean_squared_error(y_test, y_pred)))\n",
    "#print 'R2 Score: ',metrics.r2_score(y_test, y_pred)\n"
   ]
  },
  {
   "cell_type": "markdown",
   "metadata": {
    "id": "lkf1h1RW_Ihm"
   },
   "source": [
    "## Linear Regression"
   ]
  },
  {
   "cell_type": "code",
   "execution_count": null,
   "metadata": {
    "colab": {
     "base_uri": "https://localhost:8080/"
    },
    "executionInfo": {
     "elapsed": 81274,
     "status": "ok",
     "timestamp": 1611334017470,
     "user": {
      "displayName": "Alexander Güntert",
      "photoUrl": "https://lh3.googleusercontent.com/a-/AOh14GjIDZOV3Kdu3TWlEjJZTL18T1k0eIq5QemDHh7vsA=s64",
      "userId": "02684316521139958264"
     },
     "user_tz": -60
    },
    "id": "PW5dzqjj_Ihn",
    "outputId": "f2061618-5423-4dda-e554-cfc89b5963c3"
   },
   "outputs": [
    {
     "data": {
      "text/plain": [
       "LinearRegression(copy_X=True, fit_intercept=True, n_jobs=None, normalize=False)"
      ]
     },
     "execution_count": 76,
     "metadata": {
      "tags": []
     },
     "output_type": "execute_result"
    }
   ],
   "source": [
    "regressor = LinearRegression()\n",
    "regressor.fit(X_train, y_train)  "
   ]
  },
  {
   "cell_type": "code",
   "execution_count": null,
   "metadata": {
    "colab": {
     "base_uri": "https://localhost:8080/"
    },
    "executionInfo": {
     "elapsed": 81037,
     "status": "ok",
     "timestamp": 1611334017474,
     "user": {
      "displayName": "Alexander Güntert",
      "photoUrl": "https://lh3.googleusercontent.com/a-/AOh14GjIDZOV3Kdu3TWlEjJZTL18T1k0eIq5QemDHh7vsA=s64",
      "userId": "02684316521139958264"
     },
     "user_tz": -60
    },
    "id": "Bd01UozV_Ihq",
    "outputId": "6f486496-ec33-4b59-e474-40df1f699615"
   },
   "outputs": [
    {
     "name": "stdout",
     "output_type": "stream",
     "text": [
      "Mean Absolute Error: 4.506440658037878\n",
      "Mean Squared Error: 58.11544660857731\n",
      "Root Mean Squared Error: 7.623348779150624\n"
     ]
    }
   ],
   "source": [
    "print('Mean Absolute Error:', metrics.mean_absolute_error(y_test, y_pred))\n",
    "print('Mean Squared Error:', metrics.mean_squared_error(y_test, y_pred))\n",
    "print('Root Mean Squared Error:', np.sqrt(metrics.mean_squared_error(y_test, y_pred)))\n",
    "#print 'R2 Score: ',metrics.r2_score(y_test, y_pred)"
   ]
  },
  {
   "cell_type": "code",
   "execution_count": null,
   "metadata": {
    "colab": {
     "base_uri": "https://localhost:8080/",
     "height": 297
    },
    "executionInfo": {
     "elapsed": 82894,
     "status": "ok",
     "timestamp": 1611334019756,
     "user": {
      "displayName": "Alexander Güntert",
      "photoUrl": "https://lh3.googleusercontent.com/a-/AOh14GjIDZOV3Kdu3TWlEjJZTL18T1k0eIq5QemDHh7vsA=s64",
      "userId": "02684316521139958264"
     },
     "user_tz": -60
    },
    "id": "W-j8bkYR_Ihr",
    "outputId": "34cdc72d-0dfc-40b8-9ebb-35427157f5bf"
   },
   "outputs": [
    {
     "data": {
      "text/plain": [
       "<matplotlib.axes._subplots.AxesSubplot at 0x7f7a7e57a908>"
      ]
     },
     "execution_count": 78,
     "metadata": {
      "tags": []
     },
     "output_type": "execute_result"
    },
    {
     "data": {
      "image/png": "[encoded data removed]",
      "text/plain": [
       "<Figure size 432x288 with 1 Axes>"
      ]
     },
     "metadata": {
      "needs_background": "light",
      "tags": []
     },
     "output_type": "display_data"
    }
   ],
   "source": [
    "sns.scatterplot(data=df,y='Predicted',x='Actual',alpha=0.3)"
   ]
  },
  {
   "cell_type": "code",
   "execution_count": null,
   "metadata": {
    "id": "6nmTBSQn_KY1"
   },
   "outputs": [],
   "source": []
  },
  {
   "cell_type": "code",
   "execution_count": null,
   "metadata": {
    "id": "vGpeuyxB_gze"
   },
   "outputs": [],
   "source": []
  }
 ],
 "metadata": {
  "colab": {
   "collapsed_sections": [],
   "name": "hardbruecke.ipynb",
   "provenance": [],
   "toc_visible": true
  },
  "kernelspec": {
   "display_name": "Python 3",
   "language": "python",
   "name": "python3"
  },
  "language_info": {
   "codemirror_mode": {
    "name": "ipython",
    "version": 3
   },
   "file_extension": ".py",
   "mimetype": "text/x-python",
   "name": "python",
   "nbconvert_exporter": "python",
   "pygments_lexer": "ipython3",
   "version": "3.8.3"
  }
 },
 "nbformat": 4,
 "nbformat_minor": 4
}
